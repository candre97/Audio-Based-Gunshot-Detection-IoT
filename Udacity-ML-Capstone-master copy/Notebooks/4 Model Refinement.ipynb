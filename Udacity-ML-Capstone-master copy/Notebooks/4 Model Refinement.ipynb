{
 "cells": [
  {
   "cell_type": "markdown",
   "metadata": {},
   "source": [
    "# Classifying Urban sounds using Deep Learning\n",
    "\n",
    "## 4 Model Refinement "
   ]
  },
  {
   "cell_type": "markdown",
   "metadata": {},
   "source": [
    "### Load Preprocessed data "
   ]
  },
  {
   "cell_type": "code",
   "execution_count": 1,
   "metadata": {},
   "outputs": [],
   "source": [
    "# retrieve the preprocessed data from previous notebook\n",
    "\n",
    "%store -r x_train \n",
    "%store -r x_test \n",
    "%store -r y_train \n",
    "%store -r y_test \n",
    "%store -r yy \n",
    "%store -r le"
   ]
  },
  {
   "cell_type": "markdown",
   "metadata": {},
   "source": [
    "#### Model refinement\n",
    "\n",
    "In our inital attempt, we were able to achieve a Classification Accuracy score of: \n",
    "\n",
    "* Training data Accuracy:  92.3% \n",
    "* Testing data Accuracy:  87% \n",
    "\n",
    "We will now see if we can improve upon that score using a Convolutional Neural Network (CNN). "
   ]
  },
  {
   "cell_type": "markdown",
   "metadata": {},
   "source": [
    "#### Feature Extraction refinement \n",
    "\n",
    "In the prevous feature extraction stage, the MFCC vectors would vary in size for the different audio files (depending on the samples duration). \n",
    "\n",
    "However, CNNs require a fixed size for all inputs. To overcome this we will zero pad the output vectors to make them all the same size. "
   ]
  },
  {
   "cell_type": "code",
   "execution_count": 2,
   "metadata": {},
   "outputs": [],
   "source": [
    "import numpy as np\n",
    "max_pad_len = 174\n",
    "\n",
    "def extract_features(file_name):\n",
    "   \n",
    "    try:\n",
    "        audio, sample_rate = librosa.load(file_name, res_type='kaiser_fast') \n",
    "        mfccs = librosa.feature.mfcc(y=audio, sr=sample_rate, n_mfcc=40)\n",
    "        pad_width = max_pad_len - mfccs.shape[1]\n",
    "        mfccs = np.pad(mfccs, pad_width=((0, 0), (0, pad_width)), mode='constant')\n",
    "        \n",
    "    except Exception as e:\n",
    "        print(\"Error encountered while parsing file: \", file_name)\n",
    "        return None \n",
    "     \n",
    "    return mfccs"
   ]
  },
  {
   "cell_type": "code",
   "execution_count": 3,
   "metadata": {},
   "outputs": [
    {
     "name": "stderr",
     "output_type": "stream",
     "text": [
      "/usr/local/lib/python2.7/site-packages/librosa/__init__.py:35: FutureWarning: You are using librosa with Python 2. Please note that librosa 0.7 will be the last version to support Python 2, after which it will require Python 3 or later.\n",
      "  FutureWarning)\n"
     ]
    },
    {
     "name": "stdout",
     "output_type": "stream",
     "text": [
      "('Finished feature extraction from ', 8732, ' files')\n"
     ]
    }
   ],
   "source": [
    "# Load various imports \n",
    "import pandas as pd\n",
    "import os\n",
    "import librosa\n",
    "\n",
    "# Set the path to the full UrbanSound dataset \n",
    "fulldatasetpath = '/Users/candre/Documents/UrbanSound8K/audio'\n",
    "\n",
    "metadata = pd.read_csv('../UrbanSound Dataset sample/metadata/UrbanSound8K.csv')\n",
    "\n",
    "features = []\n",
    "\n",
    "# Iterate through each sound file and extract the features \n",
    "for index, row in metadata.iterrows():\n",
    "    \n",
    "    file_name = os.path.join(os.path.abspath(fulldatasetpath),'fold'+str(row[\"fold\"])+'/',str(row[\"slice_file_name\"]))\n",
    "    \n",
    "    class_label = row[\"class_name\"]\n",
    "    data = extract_features(file_name)\n",
    "    \n",
    "    features.append([data, class_label])\n",
    "\n",
    "# Convert into a Panda dataframe \n",
    "featuresdf = pd.DataFrame(features, columns=['feature','class_label'])\n",
    "\n",
    "print('Finished feature extraction from ', len(featuresdf), ' files') "
   ]
  },
  {
   "cell_type": "code",
   "execution_count": 4,
   "metadata": {},
   "outputs": [
    {
     "name": "stderr",
     "output_type": "stream",
     "text": [
      "Using TensorFlow backend.\n"
     ]
    }
   ],
   "source": [
    "from sklearn.preprocessing import LabelEncoder\n",
    "from keras.utils import to_categorical\n",
    "\n",
    "# Convert features and corresponding classification labels into numpy arrays\n",
    "X = np.array(featuresdf.feature.tolist())\n",
    "y = np.array(featuresdf.class_label.tolist())\n",
    "\n",
    "# Encode the classification labels\n",
    "le = LabelEncoder()\n",
    "yy = to_categorical(le.fit_transform(y)) \n",
    "\n",
    "# split the dataset \n",
    "from sklearn.model_selection import train_test_split \n",
    "\n",
    "x_train, x_test, y_train, y_test = train_test_split(X, yy, test_size=0.2, random_state = 42)"
   ]
  },
  {
   "cell_type": "markdown",
   "metadata": {},
   "source": [
    "### Convolutional Neural Network (CNN) model architecture \n",
    "\n",
    "\n",
    "We will modify our model to be a Convolutional Neural Network (CNN) again using Keras and a Tensorflow backend. \n",
    "\n",
    "Again we will use a `sequential` model, starting with a simple model architecture, consisting of four `Conv2D` convolution layers, with our final output layer being a `dense` layer. \n",
    "\n",
    "The convolution layers are designed for feature detection. It works by sliding a filter window over the input and performing a matrix multiplication and storing the result in a feature map. This operation is known as a convolution. \n",
    "\n",
    "\n",
    "The `filter` parameter specifies the number of nodes in each layer. Each layer will increase in size from 16, 32, 64 to 128, while the `kernel_size` parameter specifies the size of the kernel window which in this case is 2 resulting in a 2x2 filter matrix. \n",
    "\n",
    "The first layer will receive the input shape of (40, 174, 1) where 40 is the number of MFCC's 174 is the number of frames taking padding into account and the 1 signifying that the audio is mono. \n",
    "\n",
    "The activation function we will be using for our convolutional layers is `ReLU` which is the same as our previous model. We will use a smaller `Dropout` value of 20% on our convolutional layers. \n",
    "\n",
    "Each convolutional layer has an associated pooling layer of `MaxPooling2D` type with the final convolutional layer having a `GlobalAveragePooling2D` type. The pooling layer is do reduce the dimensionality of the model (by reducing the parameters and subsquent computation requirements) which serves to shorten the training time and reduce overfitting. The Max Pooling type takes the maximum size for each window and the Global Average Pooling type takes the average which is suitable for feeding into our `dense` output layer.  \n",
    "\n",
    "Our output layer will have 10 nodes (num_labels) which matches the number of possible classifications. The activation is for our output layer is `softmax`. Softmax makes the output sum up to 1 so the output can be interpreted as probabilities. The model will then make its prediction based on which option has the highest probability."
   ]
  },
  {
   "cell_type": "code",
   "execution_count": 5,
   "metadata": {},
   "outputs": [
    {
     "name": "stdout",
     "output_type": "stream",
     "text": [
      "48615600\n"
     ]
    }
   ],
   "source": [
    "import numpy as np\n",
    "from keras.models import Sequential\n",
    "from keras.layers import Dense, Dropout, Activation, Flatten\n",
    "from keras.layers import Convolution2D, Conv2D, MaxPooling2D, GlobalAveragePooling2D\n",
    "from keras.optimizers import Adam\n",
    "from keras.utils import np_utils\n",
    "from sklearn import metrics \n",
    "\n",
    "num_rows = 40\n",
    "num_columns = 174\n",
    "num_channels = 1\n",
    "\n",
    "x_train = x_train.reshape(x_train.shape[0], num_rows, num_columns, num_channels)\n",
    "x_test = x_test.reshape(x_test.shape[0], num_rows, num_columns, num_channels)\n",
    "\n",
    "\n",
    "print(x_train.size)\n",
    "\n",
    "\n",
    "num_labels = yy.shape[1]\n",
    "filter_size = 2\n",
    "\n",
    "# Construct model \n",
    "model = Sequential()\n",
    "model.add(Conv2D(filters=16, kernel_size=2, input_shape=(num_rows, num_columns, num_channels), activation='relu'))\n",
    "model.add(MaxPooling2D(pool_size=2))\n",
    "model.add(Dropout(0.2))\n",
    "\n",
    "model.add(Conv2D(filters=32, kernel_size=2, activation='relu'))\n",
    "model.add(MaxPooling2D(pool_size=2))\n",
    "model.add(Dropout(0.2))\n",
    "\n",
    "model.add(Conv2D(filters=64, kernel_size=2, activation='relu'))\n",
    "model.add(MaxPooling2D(pool_size=2))\n",
    "model.add(Dropout(0.2))\n",
    "\n",
    "model.add(Conv2D(filters=128, kernel_size=2, activation='relu'))\n",
    "model.add(MaxPooling2D(pool_size=2))\n",
    "model.add(Dropout(0.2))\n",
    "model.add(GlobalAveragePooling2D())\n",
    "\n",
    "model.add(Dense(num_labels, activation='softmax')) "
   ]
  },
  {
   "cell_type": "markdown",
   "metadata": {},
   "source": [
    "### Compiling the model \n",
    "\n",
    "For compiling our model, we will use the same three parameters as the previous model: "
   ]
  },
  {
   "cell_type": "code",
   "execution_count": 6,
   "metadata": {},
   "outputs": [],
   "source": [
    "# Compile the model\n",
    "model.compile(loss='categorical_crossentropy', metrics=['accuracy'], optimizer='adam') "
   ]
  },
  {
   "cell_type": "code",
   "execution_count": 7,
   "metadata": {},
   "outputs": [
    {
     "name": "stdout",
     "output_type": "stream",
     "text": [
      "Model: \"sequential_1\"\n",
      "_________________________________________________________________\n",
      "Layer (type)                 Output Shape              Param #   \n",
      "=================================================================\n",
      "conv2d_1 (Conv2D)            (None, 39, 173, 16)       80        \n",
      "_________________________________________________________________\n",
      "max_pooling2d_1 (MaxPooling2 (None, 19, 86, 16)        0         \n",
      "_________________________________________________________________\n",
      "dropout_1 (Dropout)          (None, 19, 86, 16)        0         \n",
      "_________________________________________________________________\n",
      "conv2d_2 (Conv2D)            (None, 18, 85, 32)        2080      \n",
      "_________________________________________________________________\n",
      "max_pooling2d_2 (MaxPooling2 (None, 9, 42, 32)         0         \n",
      "_________________________________________________________________\n",
      "dropout_2 (Dropout)          (None, 9, 42, 32)         0         \n",
      "_________________________________________________________________\n",
      "conv2d_3 (Conv2D)            (None, 8, 41, 64)         8256      \n",
      "_________________________________________________________________\n",
      "max_pooling2d_3 (MaxPooling2 (None, 4, 20, 64)         0         \n",
      "_________________________________________________________________\n",
      "dropout_3 (Dropout)          (None, 4, 20, 64)         0         \n",
      "_________________________________________________________________\n",
      "conv2d_4 (Conv2D)            (None, 3, 19, 128)        32896     \n",
      "_________________________________________________________________\n",
      "max_pooling2d_4 (MaxPooling2 (None, 1, 9, 128)         0         \n",
      "_________________________________________________________________\n",
      "dropout_4 (Dropout)          (None, 1, 9, 128)         0         \n",
      "_________________________________________________________________\n",
      "global_average_pooling2d_1 ( (None, 128)               0         \n",
      "_________________________________________________________________\n",
      "dense_1 (Dense)              (None, 10)                1290      \n",
      "=================================================================\n",
      "Total params: 44,602\n",
      "Trainable params: 44,602\n",
      "Non-trainable params: 0\n",
      "_________________________________________________________________\n",
      "1747/1747 [==============================] - 1s 451us/step\n",
      "Pre-training accuracy: 11.9634%\n"
     ]
    }
   ],
   "source": [
    "# Display model architecture summary \n",
    "model.summary()\n",
    "\n",
    "# Calculate pre-training accuracy \n",
    "score = model.evaluate(x_test, y_test, verbose=1)\n",
    "accuracy = 100*score[1]\n",
    "\n",
    "print(\"Pre-training accuracy: %.4f%%\" % accuracy)"
   ]
  },
  {
   "cell_type": "markdown",
   "metadata": {},
   "source": [
    "### Training \n",
    "\n",
    "Here we will train the model. As training a CNN can take a sigificant amount of time, we will start with a low number of epochs and a low batch size. If we can see from the output that the model is converging, we will increase both numbers.  "
   ]
  },
  {
   "cell_type": "code",
   "execution_count": 8,
   "metadata": {},
   "outputs": [
    {
     "name": "stdout",
     "output_type": "stream",
     "text": [
      "Train on 6985 samples, validate on 1747 samples\n",
      "Epoch 1/50\n",
      "6985/6985 [==============================] - 14s 2ms/step - loss: 3.2422 - accuracy: 0.1921 - val_loss: 2.0417 - val_accuracy: 0.2582\n",
      "\n",
      "Epoch 00001: val_loss improved from inf to 2.04173, saving model to saved_models/weights.best.basic_cnn.hdf5\n",
      "Epoch 2/50\n",
      "6985/6985 [==============================] - 14s 2ms/step - loss: 1.8385 - accuracy: 0.3363 - val_loss: 1.8842 - val_accuracy: 0.3314\n",
      "\n",
      "Epoch 00002: val_loss improved from 2.04173 to 1.88424, saving model to saved_models/weights.best.basic_cnn.hdf5\n",
      "Epoch 3/50\n",
      "6985/6985 [==============================] - 13s 2ms/step - loss: 1.6145 - accuracy: 0.4252 - val_loss: 1.7028 - val_accuracy: 0.4093\n",
      "\n",
      "Epoch 00003: val_loss improved from 1.88424 to 1.70284, saving model to saved_models/weights.best.basic_cnn.hdf5\n",
      "Epoch 4/50\n",
      "6985/6985 [==============================] - 14s 2ms/step - loss: 1.4756 - accuracy: 0.4764 - val_loss: 1.5211 - val_accuracy: 0.4762\n",
      "\n",
      "Epoch 00004: val_loss improved from 1.70284 to 1.52113, saving model to saved_models/weights.best.basic_cnn.hdf5\n",
      "Epoch 5/50\n",
      "6985/6985 [==============================] - 13s 2ms/step - loss: 1.3693 - accuracy: 0.5114 - val_loss: 1.4112 - val_accuracy: 0.5381\n",
      "\n",
      "Epoch 00005: val_loss improved from 1.52113 to 1.41116, saving model to saved_models/weights.best.basic_cnn.hdf5\n",
      "Epoch 6/50\n",
      "6985/6985 [==============================] - 14s 2ms/step - loss: 1.2936 - accuracy: 0.5447 - val_loss: 1.3894 - val_accuracy: 0.5341\n",
      "\n",
      "Epoch 00006: val_loss improved from 1.41116 to 1.38935, saving model to saved_models/weights.best.basic_cnn.hdf5\n",
      "Epoch 7/50\n",
      "6985/6985 [==============================] - 14s 2ms/step - loss: 1.2109 - accuracy: 0.5790 - val_loss: 1.2796 - val_accuracy: 0.5701\n",
      "\n",
      "Epoch 00007: val_loss improved from 1.38935 to 1.27955, saving model to saved_models/weights.best.basic_cnn.hdf5\n",
      "Epoch 8/50\n",
      "6985/6985 [==============================] - 14s 2ms/step - loss: 1.1735 - accuracy: 0.5907 - val_loss: 1.2518 - val_accuracy: 0.5799\n",
      "\n",
      "Epoch 00008: val_loss improved from 1.27955 to 1.25184, saving model to saved_models/weights.best.basic_cnn.hdf5\n",
      "Epoch 9/50\n",
      "6985/6985 [==============================] - 14s 2ms/step - loss: 1.1277 - accuracy: 0.6064 - val_loss: 1.1993 - val_accuracy: 0.6045\n",
      "\n",
      "Epoch 00009: val_loss improved from 1.25184 to 1.19929, saving model to saved_models/weights.best.basic_cnn.hdf5\n",
      "Epoch 10/50\n",
      "6985/6985 [==============================] - 14s 2ms/step - loss: 1.0603 - accuracy: 0.6316 - val_loss: 1.1425 - val_accuracy: 0.6090\n",
      "\n",
      "Epoch 00010: val_loss improved from 1.19929 to 1.14248, saving model to saved_models/weights.best.basic_cnn.hdf5\n",
      "Epoch 11/50\n",
      "6985/6985 [==============================] - 14s 2ms/step - loss: 1.0218 - accuracy: 0.6470 - val_loss: 1.0999 - val_accuracy: 0.6405\n",
      "\n",
      "Epoch 00011: val_loss improved from 1.14248 to 1.09991, saving model to saved_models/weights.best.basic_cnn.hdf5\n",
      "Epoch 12/50\n",
      "6985/6985 [==============================] - 14s 2ms/step - loss: 0.9790 - accuracy: 0.6606 - val_loss: 1.0581 - val_accuracy: 0.6457\n",
      "\n",
      "Epoch 00012: val_loss improved from 1.09991 to 1.05813, saving model to saved_models/weights.best.basic_cnn.hdf5\n",
      "Epoch 13/50\n",
      "6985/6985 [==============================] - 14s 2ms/step - loss: 0.9403 - accuracy: 0.6742 - val_loss: 1.0176 - val_accuracy: 0.6766\n",
      "\n",
      "Epoch 00013: val_loss improved from 1.05813 to 1.01761, saving model to saved_models/weights.best.basic_cnn.hdf5\n",
      "Epoch 14/50\n",
      "6985/6985 [==============================] - 14s 2ms/step - loss: 0.9167 - accuracy: 0.6836 - val_loss: 0.9597 - val_accuracy: 0.6892\n",
      "\n",
      "Epoch 00014: val_loss improved from 1.01761 to 0.95966, saving model to saved_models/weights.best.basic_cnn.hdf5\n",
      "Epoch 15/50\n",
      "6985/6985 [==============================] - 14s 2ms/step - loss: 0.8786 - accuracy: 0.6975 - val_loss: 0.9524 - val_accuracy: 0.6783\n",
      "\n",
      "Epoch 00015: val_loss improved from 0.95966 to 0.95243, saving model to saved_models/weights.best.basic_cnn.hdf5\n",
      "Epoch 16/50\n",
      "6985/6985 [==============================] - 14s 2ms/step - loss: 0.8513 - accuracy: 0.7164 - val_loss: 0.9113 - val_accuracy: 0.7029\n",
      "\n",
      "Epoch 00016: val_loss improved from 0.95243 to 0.91129, saving model to saved_models/weights.best.basic_cnn.hdf5\n",
      "Epoch 17/50\n",
      "6985/6985 [==============================] - 14s 2ms/step - loss: 0.8115 - accuracy: 0.7154 - val_loss: 0.8789 - val_accuracy: 0.7138\n",
      "\n",
      "Epoch 00017: val_loss improved from 0.91129 to 0.87894, saving model to saved_models/weights.best.basic_cnn.hdf5\n",
      "Epoch 18/50\n",
      "6985/6985 [==============================] - 14s 2ms/step - loss: 0.7765 - accuracy: 0.7296 - val_loss: 0.8779 - val_accuracy: 0.6955\n",
      "\n",
      "Epoch 00018: val_loss improved from 0.87894 to 0.87792, saving model to saved_models/weights.best.basic_cnn.hdf5\n",
      "Epoch 19/50\n",
      "6985/6985 [==============================] - 14s 2ms/step - loss: 0.7544 - accuracy: 0.7393 - val_loss: 0.8110 - val_accuracy: 0.7264\n",
      "\n",
      "Epoch 00019: val_loss improved from 0.87792 to 0.81105, saving model to saved_models/weights.best.basic_cnn.hdf5\n",
      "Epoch 20/50\n",
      "6985/6985 [==============================] - 14s 2ms/step - loss: 0.7455 - accuracy: 0.7406 - val_loss: 0.7776 - val_accuracy: 0.7499\n",
      "\n",
      "Epoch 00020: val_loss improved from 0.81105 to 0.77764, saving model to saved_models/weights.best.basic_cnn.hdf5\n",
      "Epoch 21/50\n",
      "6985/6985 [==============================] - 14s 2ms/step - loss: 0.7094 - accuracy: 0.7595 - val_loss: 0.7486 - val_accuracy: 0.7499\n",
      "\n",
      "Epoch 00021: val_loss improved from 0.77764 to 0.74861, saving model to saved_models/weights.best.basic_cnn.hdf5\n",
      "Epoch 22/50\n",
      "6985/6985 [==============================] - 14s 2ms/step - loss: 0.6934 - accuracy: 0.7632 - val_loss: 0.7686 - val_accuracy: 0.7504\n",
      "\n",
      "Epoch 00022: val_loss did not improve from 0.74861\n",
      "Epoch 23/50\n",
      "6985/6985 [==============================] - 14s 2ms/step - loss: 0.6685 - accuracy: 0.7672 - val_loss: 0.7325 - val_accuracy: 0.7464\n",
      "\n",
      "Epoch 00023: val_loss improved from 0.74861 to 0.73253, saving model to saved_models/weights.best.basic_cnn.hdf5\n",
      "Epoch 24/50\n",
      "6985/6985 [==============================] - 14s 2ms/step - loss: 0.6476 - accuracy: 0.7792 - val_loss: 0.7098 - val_accuracy: 0.7768\n",
      "\n",
      "Epoch 00024: val_loss improved from 0.73253 to 0.70978, saving model to saved_models/weights.best.basic_cnn.hdf5\n",
      "Epoch 25/50\n",
      "6985/6985 [==============================] - 14s 2ms/step - loss: 0.6344 - accuracy: 0.7843 - val_loss: 0.7126 - val_accuracy: 0.7636\n",
      "\n",
      "Epoch 00025: val_loss did not improve from 0.70978\n",
      "Epoch 26/50\n",
      "6985/6985 [==============================] - 14s 2ms/step - loss: 0.6119 - accuracy: 0.7920 - val_loss: 0.6789 - val_accuracy: 0.7785\n",
      "\n",
      "Epoch 00026: val_loss improved from 0.70978 to 0.67891, saving model to saved_models/weights.best.basic_cnn.hdf5\n",
      "Epoch 27/50\n",
      "6985/6985 [==============================] - 14s 2ms/step - loss: 0.5769 - accuracy: 0.8034 - val_loss: 0.6447 - val_accuracy: 0.7882\n",
      "\n",
      "Epoch 00027: val_loss improved from 0.67891 to 0.64471, saving model to saved_models/weights.best.basic_cnn.hdf5\n",
      "Epoch 28/50\n",
      "6985/6985 [==============================] - 14s 2ms/step - loss: 0.5681 - accuracy: 0.8062 - val_loss: 0.6204 - val_accuracy: 0.8002\n",
      "\n",
      "Epoch 00028: val_loss improved from 0.64471 to 0.62043, saving model to saved_models/weights.best.basic_cnn.hdf5\n",
      "Epoch 29/50\n",
      "6985/6985 [==============================] - 14s 2ms/step - loss: 0.5602 - accuracy: 0.8133 - val_loss: 0.6075 - val_accuracy: 0.8071\n",
      "\n",
      "Epoch 00029: val_loss improved from 0.62043 to 0.60747, saving model to saved_models/weights.best.basic_cnn.hdf5\n",
      "Epoch 30/50\n",
      "6985/6985 [==============================] - 14s 2ms/step - loss: 0.5448 - accuracy: 0.8159 - val_loss: 0.6115 - val_accuracy: 0.8060\n",
      "\n",
      "Epoch 00030: val_loss did not improve from 0.60747\n",
      "Epoch 31/50\n",
      "6985/6985 [==============================] - 14s 2ms/step - loss: 0.5356 - accuracy: 0.8218 - val_loss: 0.5856 - val_accuracy: 0.8214\n",
      "\n",
      "Epoch 00031: val_loss improved from 0.60747 to 0.58561, saving model to saved_models/weights.best.basic_cnn.hdf5\n",
      "Epoch 32/50\n",
      "6985/6985 [==============================] - 14s 2ms/step - loss: 0.5226 - accuracy: 0.8225 - val_loss: 0.6205 - val_accuracy: 0.8100\n",
      "\n",
      "Epoch 00032: val_loss did not improve from 0.58561\n",
      "Epoch 33/50\n"
     ]
    },
    {
     "name": "stdout",
     "output_type": "stream",
     "text": [
      "6985/6985 [==============================] - 14s 2ms/step - loss: 0.5181 - accuracy: 0.8262 - val_loss: 0.5886 - val_accuracy: 0.8208\n",
      "\n",
      "Epoch 00033: val_loss did not improve from 0.58561\n",
      "Epoch 34/50\n",
      "6985/6985 [==============================] - 14s 2ms/step - loss: 0.4817 - accuracy: 0.8395 - val_loss: 0.5271 - val_accuracy: 0.8397\n",
      "\n",
      "Epoch 00034: val_loss improved from 0.58561 to 0.52715, saving model to saved_models/weights.best.basic_cnn.hdf5\n",
      "Epoch 35/50\n",
      "6985/6985 [==============================] - 14s 2ms/step - loss: 0.4886 - accuracy: 0.8349 - val_loss: 0.5855 - val_accuracy: 0.8031\n",
      "\n",
      "Epoch 00035: val_loss did not improve from 0.52715\n",
      "Epoch 36/50\n",
      "6985/6985 [==============================] - 14s 2ms/step - loss: 0.4825 - accuracy: 0.8368 - val_loss: 0.5585 - val_accuracy: 0.8185\n",
      "\n",
      "Epoch 00036: val_loss did not improve from 0.52715\n",
      "Epoch 37/50\n",
      "6985/6985 [==============================] - 14s 2ms/step - loss: 0.4595 - accuracy: 0.8437 - val_loss: 0.5370 - val_accuracy: 0.8277\n",
      "\n",
      "Epoch 00037: val_loss did not improve from 0.52715\n",
      "Epoch 38/50\n",
      "6985/6985 [==============================] - 14s 2ms/step - loss: 0.4425 - accuracy: 0.8565 - val_loss: 0.5327 - val_accuracy: 0.8323\n",
      "\n",
      "Epoch 00038: val_loss did not improve from 0.52715\n",
      "Epoch 39/50\n",
      "6985/6985 [==============================] - 14s 2ms/step - loss: 0.4379 - accuracy: 0.8472 - val_loss: 0.5022 - val_accuracy: 0.8449\n",
      "\n",
      "Epoch 00039: val_loss improved from 0.52715 to 0.50218, saving model to saved_models/weights.best.basic_cnn.hdf5\n",
      "Epoch 40/50\n",
      "6985/6985 [==============================] - 13s 2ms/step - loss: 0.4189 - accuracy: 0.8525 - val_loss: 0.5150 - val_accuracy: 0.8329\n",
      "\n",
      "Epoch 00040: val_loss did not improve from 0.50218\n",
      "Epoch 41/50\n",
      "6985/6985 [==============================] - 14s 2ms/step - loss: 0.4212 - accuracy: 0.8578 - val_loss: 0.4945 - val_accuracy: 0.8357\n",
      "\n",
      "Epoch 00041: val_loss improved from 0.50218 to 0.49445, saving model to saved_models/weights.best.basic_cnn.hdf5\n",
      "Epoch 42/50\n",
      "6985/6985 [==============================] - 14s 2ms/step - loss: 0.4224 - accuracy: 0.8565 - val_loss: 0.4679 - val_accuracy: 0.8489\n",
      "\n",
      "Epoch 00042: val_loss improved from 0.49445 to 0.46787, saving model to saved_models/weights.best.basic_cnn.hdf5\n",
      "Epoch 43/50\n",
      "6985/6985 [==============================] - 14s 2ms/step - loss: 0.4058 - accuracy: 0.8640 - val_loss: 0.4463 - val_accuracy: 0.8598\n",
      "\n",
      "Epoch 00043: val_loss improved from 0.46787 to 0.44635, saving model to saved_models/weights.best.basic_cnn.hdf5\n",
      "Epoch 44/50\n",
      "6985/6985 [==============================] - 14s 2ms/step - loss: 0.3921 - accuracy: 0.8680 - val_loss: 0.4854 - val_accuracy: 0.8454\n",
      "\n",
      "Epoch 00044: val_loss did not improve from 0.44635\n",
      "Epoch 45/50\n",
      "6985/6985 [==============================] - 13s 2ms/step - loss: 0.3833 - accuracy: 0.8691 - val_loss: 0.4744 - val_accuracy: 0.8454\n",
      "\n",
      "Epoch 00045: val_loss did not improve from 0.44635\n",
      "Epoch 46/50\n",
      "6985/6985 [==============================] - 13s 2ms/step - loss: 0.3811 - accuracy: 0.8674 - val_loss: 0.5055 - val_accuracy: 0.8392\n",
      "\n",
      "Epoch 00046: val_loss did not improve from 0.44635\n",
      "Epoch 47/50\n",
      "6985/6985 [==============================] - 14s 2ms/step - loss: 0.3771 - accuracy: 0.8756 - val_loss: 0.4245 - val_accuracy: 0.8661\n",
      "\n",
      "Epoch 00047: val_loss improved from 0.44635 to 0.42454, saving model to saved_models/weights.best.basic_cnn.hdf5\n",
      "Epoch 48/50\n",
      "6985/6985 [==============================] - 14s 2ms/step - loss: 0.3697 - accuracy: 0.8726 - val_loss: 0.4386 - val_accuracy: 0.8575\n",
      "\n",
      "Epoch 00048: val_loss did not improve from 0.42454\n",
      "Epoch 49/50\n",
      "6985/6985 [==============================] - 14s 2ms/step - loss: 0.3420 - accuracy: 0.8826 - val_loss: 0.4241 - val_accuracy: 0.8638\n",
      "\n",
      "Epoch 00049: val_loss improved from 0.42454 to 0.42413, saving model to saved_models/weights.best.basic_cnn.hdf5\n",
      "Epoch 50/50\n",
      "6985/6985 [==============================] - 14s 2ms/step - loss: 0.3404 - accuracy: 0.8845 - val_loss: 0.4185 - val_accuracy: 0.8649\n",
      "\n",
      "Epoch 00050: val_loss improved from 0.42413 to 0.41848, saving model to saved_models/weights.best.basic_cnn.hdf5\n",
      "('Training completed in time: ', datetime.timedelta(0, 693, 716447))\n"
     ]
    }
   ],
   "source": [
    "from keras.callbacks import ModelCheckpoint \n",
    "from datetime import datetime \n",
    "\n",
    "#num_epochs = 12\n",
    "#num_batch_size = 128\n",
    "\n",
    "num_epochs = 50\n",
    "num_batch_size = 256\n",
    "\n",
    "checkpointer = ModelCheckpoint(filepath='saved_models/weights.best.basic_cnn.hdf5', \n",
    "                               verbose=1, save_best_only=True)\n",
    "start = datetime.now()\n",
    "\n",
    "model.fit(x_train, y_train, batch_size=num_batch_size, epochs=num_epochs, validation_data=(x_test, y_test), callbacks=[checkpointer], verbose=1)\n",
    "\n",
    "\n",
    "duration = datetime.now() - start\n",
    "print(\"Training completed in time: \", duration)"
   ]
  },
  {
   "cell_type": "markdown",
   "metadata": {},
   "source": [
    "### Test the model \n",
    "\n",
    "Here we will review the accuracy of the model on both the training and test data sets. "
   ]
  },
  {
   "cell_type": "code",
   "execution_count": 9,
   "metadata": {},
   "outputs": [
    {
     "name": "stdout",
     "output_type": "stream",
     "text": [
      "('Training Accuracy: ', 0.9148174524307251)\n",
      "('Testing Accuracy: ', 0.8649112582206726)\n"
     ]
    }
   ],
   "source": [
    "# Evaluating the model on the training and testing set\n",
    "score = model.evaluate(x_train, y_train, verbose=0)\n",
    "print(\"Training Accuracy: \", score[1])\n",
    "\n",
    "score = model.evaluate(x_test, y_test, verbose=0)\n",
    "print(\"Testing Accuracy: \", score[1])"
   ]
  },
  {
   "cell_type": "markdown",
   "metadata": {},
   "source": [
    "The Training and Testing accuracy scores are both high and an increase on our initial model. Training accuracy has increased by ~6% and Testing accuracy has increased by ~4%. \n",
    "\n",
    "There is a marginal increase in the difference between the Training and Test scores (~6% compared to ~5% previously) though the difference remains low so the model has not suffered from overfitting. "
   ]
  },
  {
   "cell_type": "markdown",
   "metadata": {},
   "source": [
    "### Predictions  \n",
    "\n",
    "Here we will modify our previous method for testing the models predictions on a specified audio .wav file. "
   ]
  },
  {
   "cell_type": "code",
   "execution_count": 10,
   "metadata": {},
   "outputs": [],
   "source": [
    "def print_prediction(file_name):\n",
    "    prediction_feature = extract_features(file_name) \n",
    "    prediction_feature = prediction_feature.reshape(1, num_rows, num_columns, num_channels)\n",
    "\n",
    "    predicted_vector = model.predict_classes(prediction_feature)\n",
    "    predicted_class = le.inverse_transform(predicted_vector) \n",
    "    print(\"The predicted class is:\", predicted_class[0], '\\n') \n",
    "    \n",
    "    predicted_proba_vector = model.predict_proba(prediction_feature) \n",
    "    predicted_proba = predicted_proba_vector[0]\n",
    "    for i in range(len(predicted_proba)): \n",
    "        category = le.inverse_transform(np.array([i]))\n",
    "        print(category[0], \"\\t\\t : \", format(predicted_proba[i], '.32f') )"
   ]
  },
  {
   "cell_type": "markdown",
   "metadata": {},
   "source": [
    "### Validation \n",
    "\n",
    "#### Test with sample data \n",
    "\n",
    "As before we will verify the predictions using a subsection of the sample audio files we explored in the first notebook. We expect the bulk of these to be classified correctly. "
   ]
  },
  {
   "cell_type": "code",
   "execution_count": 11,
   "metadata": {},
   "outputs": [
    {
     "name": "stdout",
     "output_type": "stream",
     "text": [
      "('The predicted class is:', 'air_conditioner', '\\n')\n",
      "('air_conditioner', '\\t\\t : ', '0.99430495500564575195312500000000')\n",
      "('car_horn', '\\t\\t : ', '0.00000413229463447351008653640747')\n",
      "('children_playing', '\\t\\t : ', '0.00049223139649257063865661621094')\n",
      "('dog_bark', '\\t\\t : ', '0.00012356304796412587165832519531')\n",
      "('drilling', '\\t\\t : ', '0.00314197433181107044219970703125')\n",
      "('engine_idling', '\\t\\t : ', '0.00022964659729041159152984619141')\n",
      "('gun_shot', '\\t\\t : ', '0.00017332518473267555236816406250')\n",
      "('jackhammer', '\\t\\t : ', '0.00136348372325301170349121093750')\n",
      "('siren', '\\t\\t : ', '0.00001274913756788009777665138245')\n",
      "('street_music', '\\t\\t : ', '0.00015388085739687085151672363281')\n"
     ]
    }
   ],
   "source": [
    "# Class: Air Conditioner\n",
    "\n",
    "filename = '../UrbanSound Dataset sample/audio/100852-0-0-0.wav' \n",
    "print_prediction(filename) "
   ]
  },
  {
   "cell_type": "code",
   "execution_count": 12,
   "metadata": {
    "scrolled": true
   },
   "outputs": [
    {
     "name": "stdout",
     "output_type": "stream",
     "text": [
      "('The predicted class is:', 'drilling', '\\n')\n",
      "('air_conditioner', '\\t\\t : ', '0.00011117798567283898591995239258')\n",
      "('car_horn', '\\t\\t : ', '0.00046746811131015419960021972656')\n",
      "('children_playing', '\\t\\t : ', '0.00010200766701018437743186950684')\n",
      "('dog_bark', '\\t\\t : ', '0.00002208971636719070374965667725')\n",
      "('drilling', '\\t\\t : ', '0.88226091861724853515625000000000')\n",
      "('engine_idling', '\\t\\t : ', '0.00139172887429594993591308593750')\n",
      "('gun_shot', '\\t\\t : ', '0.00001045745648298179730772972107')\n",
      "('jackhammer', '\\t\\t : ', '0.00029792665736749768257141113281')\n",
      "('siren', '\\t\\t : ', '0.00000047216988718901120591908693')\n",
      "('street_music', '\\t\\t : ', '0.11533586680889129638671875000000')\n"
     ]
    }
   ],
   "source": [
    "# Class: Drilling\n",
    "\n",
    "filename = '../UrbanSound Dataset sample/audio/103199-4-0-0.wav'\n",
    "print_prediction(filename) "
   ]
  },
  {
   "cell_type": "code",
   "execution_count": 13,
   "metadata": {},
   "outputs": [
    {
     "name": "stdout",
     "output_type": "stream",
     "text": [
      "('The predicted class is:', 'street_music', '\\n')\n",
      "('air_conditioner', '\\t\\t : ', '0.00020938765374012291431427001953')\n",
      "('car_horn', '\\t\\t : ', '0.00030915610841475427150726318359')\n",
      "('children_playing', '\\t\\t : ', '0.05565844848752021789550781250000')\n",
      "('dog_bark', '\\t\\t : ', '0.00261942483484745025634765625000')\n",
      "('drilling', '\\t\\t : ', '0.00005771014548372477293014526367')\n",
      "('engine_idling', '\\t\\t : ', '0.00006845247844466939568519592285')\n",
      "('gun_shot', '\\t\\t : ', '0.00000000316517190235288126132218')\n",
      "('jackhammer', '\\t\\t : ', '0.00000095644850262033287435770035')\n",
      "('siren', '\\t\\t : ', '0.00031159777427092194557189941406')\n",
      "('street_music', '\\t\\t : ', '0.94076490402221679687500000000000')\n"
     ]
    }
   ],
   "source": [
    "# Class: Street music \n",
    "\n",
    "filename = '../UrbanSound Dataset sample/audio/101848-9-0-0.wav'\n",
    "print_prediction(filename) "
   ]
  },
  {
   "cell_type": "code",
   "execution_count": 14,
   "metadata": {},
   "outputs": [
    {
     "name": "stdout",
     "output_type": "stream",
     "text": [
      "('The predicted class is:', 'drilling', '\\n')\n",
      "('air_conditioner', '\\t\\t : ', '0.00413095718249678611755371093750')\n",
      "('car_horn', '\\t\\t : ', '0.23555260896682739257812500000000')\n",
      "('children_playing', '\\t\\t : ', '0.00341038079932332038879394531250')\n",
      "('dog_bark', '\\t\\t : ', '0.07661475241184234619140625000000')\n",
      "('drilling', '\\t\\t : ', '0.30554339289665222167968750000000')\n",
      "('engine_idling', '\\t\\t : ', '0.01312879007309675216674804687500')\n",
      "('gun_shot', '\\t\\t : ', '0.16214396059513092041015625000000')\n",
      "('jackhammer', '\\t\\t : ', '0.18499884009361267089843750000000')\n",
      "('siren', '\\t\\t : ', '0.00950079876929521560668945312500')\n",
      "('street_music', '\\t\\t : ', '0.00497550377622246742248535156250')\n"
     ]
    }
   ],
   "source": [
    "# Class: Car Horn \n",
    "\n",
    "filename = '../UrbanSound Dataset sample/audio/100648-1-0-0.wav'\n",
    "print_prediction(filename) "
   ]
  },
  {
   "cell_type": "markdown",
   "metadata": {},
   "source": [
    "#### Observations \n",
    "\n",
    "We can see that the model performs well. \n",
    "\n",
    "Interestingly, car horn was again incorrectly classifed but this time as drilling - though the per class confidence shows it was a close decision between car horn with 26% confidence and drilling at 34% confidence.  "
   ]
  },
  {
   "cell_type": "markdown",
   "metadata": {},
   "source": [
    "### Other audio\n",
    "\n",
    "Again we will further validate our model using a sample of various copyright free sounds that we not part of either our test or training data. "
   ]
  },
  {
   "cell_type": "code",
   "execution_count": 15,
   "metadata": {},
   "outputs": [
    {
     "name": "stdout",
     "output_type": "stream",
     "text": [
      "('The predicted class is:', 'dog_bark', '\\n')\n",
      "('air_conditioner', '\\t\\t : ', '0.00078123359708115458488464355469')\n",
      "('car_horn', '\\t\\t : ', '0.36857819557189941406250000000000')\n",
      "('children_playing', '\\t\\t : ', '0.00487326225265860557556152343750')\n",
      "('dog_bark', '\\t\\t : ', '0.47308158874511718750000000000000')\n",
      "('drilling', '\\t\\t : ', '0.04491152241826057434082031250000')\n",
      "('engine_idling', '\\t\\t : ', '0.00239122915081679821014404296875')\n",
      "('gun_shot', '\\t\\t : ', '0.09764170646667480468750000000000')\n",
      "('jackhammer', '\\t\\t : ', '0.00051994249224662780761718750000')\n",
      "('siren', '\\t\\t : ', '0.00198819977231323719024658203125')\n",
      "('street_music', '\\t\\t : ', '0.00523302564397454261779785156250')\n"
     ]
    }
   ],
   "source": [
    "filename = '../Evaluation audio/dog_bark_1.wav'\n",
    "print_prediction(filename) "
   ]
  },
  {
   "cell_type": "code",
   "execution_count": 16,
   "metadata": {
    "scrolled": true
   },
   "outputs": [
    {
     "name": "stdout",
     "output_type": "stream",
     "text": [
      "('The predicted class is:', 'jackhammer', '\\n')\n",
      "('air_conditioner', '\\t\\t : ', '0.16449461877346038818359375000000')\n",
      "('car_horn', '\\t\\t : ', '0.00005008173684473149478435516357')\n",
      "('children_playing', '\\t\\t : ', '0.00067531666718423366546630859375')\n",
      "('dog_bark', '\\t\\t : ', '0.00392344594001770019531250000000')\n",
      "('drilling', '\\t\\t : ', '0.02171051502227783203125000000000')\n",
      "('engine_idling', '\\t\\t : ', '0.01464555878192186355590820312500')\n",
      "('gun_shot', '\\t\\t : ', '0.00003229510548408143222332000732')\n",
      "('jackhammer', '\\t\\t : ', '0.79288184642791748046875000000000')\n",
      "('siren', '\\t\\t : ', '0.00108002603519707918167114257812')\n",
      "('street_music', '\\t\\t : ', '0.00050631625344976782798767089844')\n"
     ]
    }
   ],
   "source": [
    "filename = '../Evaluation audio/drilling_1.wav'\n",
    "\n",
    "print_prediction(filename) "
   ]
  },
  {
   "cell_type": "code",
   "execution_count": 17,
   "metadata": {
    "scrolled": true
   },
   "outputs": [
    {
     "name": "stdout",
     "output_type": "stream",
     "text": [
      "('The predicted class is:', 'gun_shot', '\\n')\n",
      "('air_conditioner', '\\t\\t : ', '0.00000130929652186750900000333786')\n",
      "('car_horn', '\\t\\t : ', '0.00001913116102514322847127914429')\n",
      "('children_playing', '\\t\\t : ', '0.00365575496107339859008789062500')\n",
      "('dog_bark', '\\t\\t : ', '0.06901239603757858276367187500000')\n",
      "('drilling', '\\t\\t : ', '0.00368810654617846012115478515625')\n",
      "('engine_idling', '\\t\\t : ', '0.00033480214187875390052795410156')\n",
      "('gun_shot', '\\t\\t : ', '0.92230415344238281250000000000000')\n",
      "('jackhammer', '\\t\\t : ', '0.00000770927272242261096835136414')\n",
      "('siren', '\\t\\t : ', '0.00055570778204128146171569824219')\n",
      "('street_music', '\\t\\t : ', '0.00042099214624613523483276367188')\n"
     ]
    }
   ],
   "source": [
    "filename = '../Evaluation audio/gun_shot_1.wav'\n",
    "\n",
    "print_prediction(filename) "
   ]
  },
  {
   "cell_type": "code",
   "execution_count": 20,
   "metadata": {
    "scrolled": false
   },
   "outputs": [],
   "source": [
    "import pickle\n",
    "pickle_out = open(\"CNN_model.pickle\",\"wb\")\n",
    "pickle.dump(model, pickle_out)\n",
    "pickle_out.close()"
   ]
  },
  {
   "cell_type": "markdown",
   "metadata": {},
   "source": [
    "#### Observations \n",
    "\n",
    "The performance of our final model is very good and has generalised well, seeming to predict well when tested against new audio data. "
   ]
  },
  {
   "cell_type": "code",
   "execution_count": 21,
   "metadata": {},
   "outputs": [
    {
     "name": "stdout",
     "output_type": "stream",
     "text": [
      "<keras.engine.sequential.Sequential object at 0x1617338d0>\n"
     ]
    }
   ],
   "source": [
    "print(model)"
   ]
  },
  {
   "cell_type": "code",
   "execution_count": 22,
   "metadata": {},
   "outputs": [],
   "source": [
    "pickle_out2 = open(\"le.pickle\",\"wb\")\n",
    "pickle.dump(le, pickle_out2)\n",
    "pickle_out.close()"
   ]
  },
  {
   "cell_type": "code",
   "execution_count": null,
   "metadata": {},
   "outputs": [],
   "source": []
  }
 ],
 "metadata": {
  "kernelspec": {
   "display_name": "Python 2",
   "language": "python",
   "name": "python2"
  },
  "language_info": {
   "codemirror_mode": {
    "name": "ipython",
    "version": 2
   },
   "file_extension": ".py",
   "mimetype": "text/x-python",
   "name": "python",
   "nbconvert_exporter": "python",
   "pygments_lexer": "ipython2",
   "version": "2.7.16"
  }
 },
 "nbformat": 4,
 "nbformat_minor": 2
}
