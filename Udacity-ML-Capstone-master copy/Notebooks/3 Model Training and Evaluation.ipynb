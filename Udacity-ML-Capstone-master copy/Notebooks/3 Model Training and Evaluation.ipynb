{
 "cells": [
  {
   "cell_type": "markdown",
   "metadata": {},
   "source": [
    "# Classifying Urban sounds using Deep Learning\n",
    "\n",
    "## 3 Model Training and Evaluation "
   ]
  },
  {
   "cell_type": "markdown",
   "metadata": {},
   "source": [
    "### Load Preprocessed data "
   ]
  },
  {
   "cell_type": "code",
   "execution_count": 1,
   "metadata": {},
   "outputs": [],
   "source": [
    "# retrieve the preprocessed data from previous notebook\n",
    "\n",
    "%store -r x_train \n",
    "%store -r x_test \n",
    "%store -r y_train \n",
    "%store -r y_test \n",
    "%store -r yy \n",
    "%store -r le"
   ]
  },
  {
   "cell_type": "markdown",
   "metadata": {},
   "source": [
    "### Initial model architecture - MLP\n",
    "\n",
    "We will start with constructing a Multilayer Perceptron (MLP) Neural Network using Keras and a Tensorflow backend. \n",
    "\n",
    "Starting with a `sequential` model so we can build the model layer by layer. \n",
    "\n",
    "We will begin with a simple model architecture, consisting of three layers, an input layer, a hidden layer and an output layer. All three layers will be of the `dense` layer type which is a standard layer type that is used in many cases for neural networks. \n",
    "\n",
    "The first layer will receive the input shape. As each sample contains 40 MFCCs (or columns) we have a shape of (1x40) this means we will start with an input shape of 40. \n",
    "\n",
    "The first two layers will have 256 nodes. The activation function we will be using for our first 2 layers is the `ReLU`, or `Rectified Linear Activation`. This activation function has been proven to work well in neural networks.\n",
    "\n",
    "We will also apply a `Dropout` value of 50% on our first two layers. This will randomly exclude nodes from each update cycle which in turn results in a network that is capable of better generalisation and is less likely to overfit the training data.\n",
    "\n",
    "Our output layer will have 10 nodes (num_labels) which matches the number of possible classifications. The activation is for our output layer is `softmax`. Softmax makes the output sum up to 1 so the output can be interpreted as probabilities. The model will then make its prediction based on which option has the highest probability."
   ]
  },
  {
   "cell_type": "code",
   "execution_count": 2,
   "metadata": {},
   "outputs": [
    {
     "name": "stderr",
     "output_type": "stream",
     "text": [
      "Using TensorFlow backend.\n"
     ]
    }
   ],
   "source": [
    "import numpy as np\n",
    "from keras.models import Sequential\n",
    "from keras.layers import Dense, Dropout, Activation, Flatten\n",
    "from keras.layers import Convolution2D, MaxPooling2D\n",
    "from keras.optimizers import Adam\n",
    "from keras.utils import np_utils\n",
    "from sklearn import metrics \n",
    "\n",
    "num_labels = yy.shape[1]\n",
    "filter_size = 2\n",
    "\n",
    "# Construct model \n",
    "model = Sequential()\n",
    "\n",
    "model.add(Dense(256, input_shape=(40,)))\n",
    "model.add(Activation('relu'))\n",
    "model.add(Dropout(0.5))\n",
    "\n",
    "model.add(Dense(256))\n",
    "model.add(Activation('relu'))\n",
    "model.add(Dropout(0.5))\n",
    "\n",
    "model.add(Dense(num_labels))\n",
    "model.add(Activation('softmax'))"
   ]
  },
  {
   "cell_type": "markdown",
   "metadata": {},
   "source": [
    "### Compiling the model \n",
    "\n",
    "For compiling our model, we will use the following three parameters: \n",
    "\n",
    "* Loss function - we will use `categorical_crossentropy`. This is the most common choice for classification. A lower score indicates that the model is performing better.\n",
    "\n",
    "* Metrics - we will use the `accuracy` metric which will allow us to view the accuracy score on the validation data when we train the model. \n",
    "\n",
    "* Optimizer - here we will use `adam` which is a generally good optimizer for many use cases.\n"
   ]
  },
  {
   "cell_type": "code",
   "execution_count": 3,
   "metadata": {},
   "outputs": [],
   "source": [
    "# Compile the model\n",
    "model.compile(loss='categorical_crossentropy', metrics=['accuracy'], optimizer='adam') "
   ]
  },
  {
   "cell_type": "code",
   "execution_count": 4,
   "metadata": {},
   "outputs": [
    {
     "name": "stdout",
     "output_type": "stream",
     "text": [
      "Model: \"sequential_1\"\n",
      "_________________________________________________________________\n",
      "Layer (type)                 Output Shape              Param #   \n",
      "=================================================================\n",
      "dense_1 (Dense)              (None, 256)               10496     \n",
      "_________________________________________________________________\n",
      "activation_1 (Activation)    (None, 256)               0         \n",
      "_________________________________________________________________\n",
      "dropout_1 (Dropout)          (None, 256)               0         \n",
      "_________________________________________________________________\n",
      "dense_2 (Dense)              (None, 256)               65792     \n",
      "_________________________________________________________________\n",
      "activation_2 (Activation)    (None, 256)               0         \n",
      "_________________________________________________________________\n",
      "dropout_2 (Dropout)          (None, 256)               0         \n",
      "_________________________________________________________________\n",
      "dense_3 (Dense)              (None, 10)                2570      \n",
      "_________________________________________________________________\n",
      "activation_3 (Activation)    (None, 10)                0         \n",
      "=================================================================\n",
      "Total params: 78,858\n",
      "Trainable params: 78,858\n",
      "Non-trainable params: 0\n",
      "_________________________________________________________________\n",
      "Pre-training accuracy: 11.1048%\n"
     ]
    }
   ],
   "source": [
    "# Display model architecture summary \n",
    "model.summary()\n",
    "\n",
    "# Calculate pre-training accuracy \n",
    "score = model.evaluate(x_test, y_test, verbose=0)\n",
    "accuracy = 100*score[1]\n",
    "\n",
    "print(\"Pre-training accuracy: %.4f%%\" % accuracy)"
   ]
  },
  {
   "cell_type": "markdown",
   "metadata": {},
   "source": [
    "### Training \n",
    "\n",
    "Here we will train the model. \n",
    "\n",
    "We will start with 100 epochs which is the number of times the model will cycle through the data. The model will improve on each cycle until it reaches a certain point. \n",
    "\n",
    "We will also start with a low batch size, as having a large batch size can reduce the generalisation ability of the model. "
   ]
  },
  {
   "cell_type": "code",
   "execution_count": 5,
   "metadata": {},
   "outputs": [
    {
     "name": "stdout",
     "output_type": "stream",
     "text": [
      "Train on 6985 samples, validate on 1747 samples\n",
      "Epoch 1/100\n",
      "6985/6985 [==============================] - 1s 108us/step - loss: 9.7211 - accuracy: 0.1791 - val_loss: 2.1744 - val_accuracy: 0.1660\n",
      "\n",
      "Epoch 00001: val_loss improved from inf to 2.17442, saving model to saved_models/weights.best.basic_mlp.hdf5\n",
      "Epoch 2/100\n",
      "6985/6985 [==============================] - 0s 71us/step - loss: 2.2919 - accuracy: 0.2331 - val_loss: 2.0901 - val_accuracy: 0.2347\n",
      "\n",
      "Epoch 00002: val_loss improved from 2.17442 to 2.09008, saving model to saved_models/weights.best.basic_mlp.hdf5\n",
      "Epoch 3/100\n",
      "6985/6985 [==============================] - 0s 70us/step - loss: 2.0790 - accuracy: 0.2753 - val_loss: 1.9319 - val_accuracy: 0.3251\n",
      "\n",
      "Epoch 00003: val_loss improved from 2.09008 to 1.93192, saving model to saved_models/weights.best.basic_mlp.hdf5\n",
      "Epoch 4/100\n",
      "6985/6985 [==============================] - 1s 76us/step - loss: 1.9199 - accuracy: 0.3220 - val_loss: 1.7101 - val_accuracy: 0.4362\n",
      "\n",
      "Epoch 00004: val_loss improved from 1.93192 to 1.71011, saving model to saved_models/weights.best.basic_mlp.hdf5\n",
      "Epoch 5/100\n",
      "6985/6985 [==============================] - 0s 66us/step - loss: 1.7922 - accuracy: 0.3662 - val_loss: 1.5479 - val_accuracy: 0.4785\n",
      "\n",
      "Epoch 00005: val_loss improved from 1.71011 to 1.54790, saving model to saved_models/weights.best.basic_mlp.hdf5\n",
      "Epoch 6/100\n",
      "6985/6985 [==============================] - 0s 68us/step - loss: 1.6980 - accuracy: 0.4031 - val_loss: 1.4809 - val_accuracy: 0.5066\n",
      "\n",
      "Epoch 00006: val_loss improved from 1.54790 to 1.48090, saving model to saved_models/weights.best.basic_mlp.hdf5\n",
      "Epoch 7/100\n",
      "6985/6985 [==============================] - 0s 62us/step - loss: 1.6251 - accuracy: 0.4372 - val_loss: 1.4030 - val_accuracy: 0.5484\n",
      "\n",
      "Epoch 00007: val_loss improved from 1.48090 to 1.40304, saving model to saved_models/weights.best.basic_mlp.hdf5\n",
      "Epoch 8/100\n",
      "6985/6985 [==============================] - 0s 63us/step - loss: 1.5294 - accuracy: 0.4806 - val_loss: 1.3053 - val_accuracy: 0.5884\n",
      "\n",
      "Epoch 00008: val_loss improved from 1.40304 to 1.30533, saving model to saved_models/weights.best.basic_mlp.hdf5\n",
      "Epoch 9/100\n",
      "6985/6985 [==============================] - 1s 74us/step - loss: 1.4459 - accuracy: 0.5008 - val_loss: 1.2110 - val_accuracy: 0.6285\n",
      "\n",
      "Epoch 00009: val_loss improved from 1.30533 to 1.21099, saving model to saved_models/weights.best.basic_mlp.hdf5\n",
      "Epoch 10/100\n",
      "6985/6985 [==============================] - 0s 67us/step - loss: 1.3692 - accuracy: 0.5372 - val_loss: 1.1220 - val_accuracy: 0.6451\n",
      "\n",
      "Epoch 00010: val_loss improved from 1.21099 to 1.12204, saving model to saved_models/weights.best.basic_mlp.hdf5\n",
      "Epoch 11/100\n",
      "6985/6985 [==============================] - 0s 65us/step - loss: 1.3077 - accuracy: 0.5553 - val_loss: 1.0777 - val_accuracy: 0.6503\n",
      "\n",
      "Epoch 00011: val_loss improved from 1.12204 to 1.07768, saving model to saved_models/weights.best.basic_mlp.hdf5\n",
      "Epoch 12/100\n",
      "6985/6985 [==============================] - 0s 62us/step - loss: 1.2407 - accuracy: 0.5858 - val_loss: 1.0270 - val_accuracy: 0.6835\n",
      "\n",
      "Epoch 00012: val_loss improved from 1.07768 to 1.02701, saving model to saved_models/weights.best.basic_mlp.hdf5\n",
      "Epoch 13/100\n",
      "6985/6985 [==============================] - 0s 61us/step - loss: 1.2165 - accuracy: 0.5918 - val_loss: 0.9901 - val_accuracy: 0.6886\n",
      "\n",
      "Epoch 00013: val_loss improved from 1.02701 to 0.99011, saving model to saved_models/weights.best.basic_mlp.hdf5\n",
      "Epoch 14/100\n",
      "6985/6985 [==============================] - 0s 60us/step - loss: 1.1593 - accuracy: 0.6137 - val_loss: 0.9636 - val_accuracy: 0.7138\n",
      "\n",
      "Epoch 00014: val_loss improved from 0.99011 to 0.96355, saving model to saved_models/weights.best.basic_mlp.hdf5\n",
      "Epoch 15/100\n",
      "6985/6985 [==============================] - 0s 60us/step - loss: 1.1450 - accuracy: 0.6152 - val_loss: 0.9162 - val_accuracy: 0.7241\n",
      "\n",
      "Epoch 00015: val_loss improved from 0.96355 to 0.91624, saving model to saved_models/weights.best.basic_mlp.hdf5\n",
      "Epoch 16/100\n",
      "6985/6985 [==============================] - 0s 60us/step - loss: 1.0868 - accuracy: 0.6293 - val_loss: 0.8811 - val_accuracy: 0.7275\n",
      "\n",
      "Epoch 00016: val_loss improved from 0.91624 to 0.88110, saving model to saved_models/weights.best.basic_mlp.hdf5\n",
      "Epoch 17/100\n",
      "6985/6985 [==============================] - 0s 62us/step - loss: 1.0358 - accuracy: 0.6467 - val_loss: 0.8412 - val_accuracy: 0.7396\n",
      "\n",
      "Epoch 00017: val_loss improved from 0.88110 to 0.84122, saving model to saved_models/weights.best.basic_mlp.hdf5\n",
      "Epoch 18/100\n",
      "6985/6985 [==============================] - 0s 61us/step - loss: 1.0106 - accuracy: 0.6540 - val_loss: 0.8132 - val_accuracy: 0.7436\n",
      "\n",
      "Epoch 00018: val_loss improved from 0.84122 to 0.81325, saving model to saved_models/weights.best.basic_mlp.hdf5\n",
      "Epoch 19/100\n",
      "6985/6985 [==============================] - 0s 63us/step - loss: 1.0010 - accuracy: 0.6596 - val_loss: 0.7703 - val_accuracy: 0.7567\n",
      "\n",
      "Epoch 00019: val_loss improved from 0.81325 to 0.77028, saving model to saved_models/weights.best.basic_mlp.hdf5\n",
      "Epoch 20/100\n",
      "6985/6985 [==============================] - 0s 62us/step - loss: 0.9552 - accuracy: 0.6750 - val_loss: 0.7756 - val_accuracy: 0.7602\n",
      "\n",
      "Epoch 00020: val_loss did not improve from 0.77028\n",
      "Epoch 21/100\n",
      "6985/6985 [==============================] - 0s 60us/step - loss: 0.9467 - accuracy: 0.6782 - val_loss: 0.7186 - val_accuracy: 0.7922\n",
      "\n",
      "Epoch 00021: val_loss improved from 0.77028 to 0.71857, saving model to saved_models/weights.best.basic_mlp.hdf5\n",
      "Epoch 22/100\n",
      "6985/6985 [==============================] - 0s 61us/step - loss: 0.9191 - accuracy: 0.6865 - val_loss: 0.7481 - val_accuracy: 0.7813\n",
      "\n",
      "Epoch 00022: val_loss did not improve from 0.71857\n",
      "Epoch 23/100\n",
      "6985/6985 [==============================] - 0s 60us/step - loss: 0.8962 - accuracy: 0.6958 - val_loss: 0.7019 - val_accuracy: 0.7916\n",
      "\n",
      "Epoch 00023: val_loss improved from 0.71857 to 0.70192, saving model to saved_models/weights.best.basic_mlp.hdf5\n",
      "Epoch 24/100\n",
      "6985/6985 [==============================] - 0s 69us/step - loss: 0.8695 - accuracy: 0.7004 - val_loss: 0.6827 - val_accuracy: 0.7865\n",
      "\n",
      "Epoch 00024: val_loss improved from 0.70192 to 0.68274, saving model to saved_models/weights.best.basic_mlp.hdf5\n",
      "Epoch 25/100\n",
      "6985/6985 [==============================] - 0s 68us/step - loss: 0.8599 - accuracy: 0.7048 - val_loss: 0.6795 - val_accuracy: 0.7905\n",
      "\n",
      "Epoch 00025: val_loss improved from 0.68274 to 0.67954, saving model to saved_models/weights.best.basic_mlp.hdf5\n",
      "Epoch 26/100\n",
      "6985/6985 [==============================] - 0s 66us/step - loss: 0.8276 - accuracy: 0.7241 - val_loss: 0.6224 - val_accuracy: 0.8145\n",
      "\n",
      "Epoch 00026: val_loss improved from 0.67954 to 0.62236, saving model to saved_models/weights.best.basic_mlp.hdf5\n",
      "Epoch 27/100\n",
      "6985/6985 [==============================] - 0s 64us/step - loss: 0.8047 - accuracy: 0.7223 - val_loss: 0.6602 - val_accuracy: 0.8042\n",
      "\n",
      "Epoch 00027: val_loss did not improve from 0.62236\n",
      "Epoch 28/100\n",
      "6985/6985 [==============================] - 0s 67us/step - loss: 0.8104 - accuracy: 0.7205 - val_loss: 0.6165 - val_accuracy: 0.8157\n",
      "\n",
      "Epoch 00028: val_loss improved from 0.62236 to 0.61650, saving model to saved_models/weights.best.basic_mlp.hdf5\n",
      "Epoch 29/100\n",
      "6985/6985 [==============================] - 0s 62us/step - loss: 0.8001 - accuracy: 0.7257 - val_loss: 0.6109 - val_accuracy: 0.8157\n",
      "\n",
      "Epoch 00029: val_loss improved from 0.61650 to 0.61095, saving model to saved_models/weights.best.basic_mlp.hdf5\n",
      "Epoch 30/100\n",
      "6985/6985 [==============================] - 0s 62us/step - loss: 0.7825 - accuracy: 0.7330 - val_loss: 0.6124 - val_accuracy: 0.8117\n",
      "\n",
      "Epoch 00030: val_loss did not improve from 0.61095\n",
      "Epoch 31/100\n",
      "6985/6985 [==============================] - 0s 60us/step - loss: 0.7751 - accuracy: 0.7372 - val_loss: 0.5808 - val_accuracy: 0.8243\n",
      "\n",
      "Epoch 00031: val_loss improved from 0.61095 to 0.58082, saving model to saved_models/weights.best.basic_mlp.hdf5\n",
      "Epoch 32/100\n",
      "6985/6985 [==============================] - 0s 65us/step - loss: 0.7566 - accuracy: 0.7429 - val_loss: 0.5675 - val_accuracy: 0.8300\n",
      "\n",
      "Epoch 00032: val_loss improved from 0.58082 to 0.56754, saving model to saved_models/weights.best.basic_mlp.hdf5\n",
      "Epoch 33/100\n"
     ]
    },
    {
     "name": "stdout",
     "output_type": "stream",
     "text": [
      "6985/6985 [==============================] - 0s 61us/step - loss: 0.7417 - accuracy: 0.7493 - val_loss: 0.5600 - val_accuracy: 0.8340\n",
      "\n",
      "Epoch 00033: val_loss improved from 0.56754 to 0.56000, saving model to saved_models/weights.best.basic_mlp.hdf5\n",
      "Epoch 34/100\n",
      "6985/6985 [==============================] - 0s 62us/step - loss: 0.7510 - accuracy: 0.7508 - val_loss: 0.5706 - val_accuracy: 0.8374\n",
      "\n",
      "Epoch 00034: val_loss did not improve from 0.56000\n",
      "Epoch 35/100\n",
      "6985/6985 [==============================] - 0s 62us/step - loss: 0.7326 - accuracy: 0.7505 - val_loss: 0.5515 - val_accuracy: 0.8340\n",
      "\n",
      "Epoch 00035: val_loss improved from 0.56000 to 0.55147, saving model to saved_models/weights.best.basic_mlp.hdf5\n",
      "Epoch 36/100\n",
      "6985/6985 [==============================] - 0s 62us/step - loss: 0.6985 - accuracy: 0.7688 - val_loss: 0.5379 - val_accuracy: 0.8351\n",
      "\n",
      "Epoch 00036: val_loss improved from 0.55147 to 0.53790, saving model to saved_models/weights.best.basic_mlp.hdf5\n",
      "Epoch 37/100\n",
      "6985/6985 [==============================] - 0s 62us/step - loss: 0.6997 - accuracy: 0.7674 - val_loss: 0.5559 - val_accuracy: 0.8369\n",
      "\n",
      "Epoch 00037: val_loss did not improve from 0.53790\n",
      "Epoch 38/100\n",
      "6985/6985 [==============================] - 0s 61us/step - loss: 0.7014 - accuracy: 0.7622 - val_loss: 0.5347 - val_accuracy: 0.8426\n",
      "\n",
      "Epoch 00038: val_loss improved from 0.53790 to 0.53468, saving model to saved_models/weights.best.basic_mlp.hdf5\n",
      "Epoch 39/100\n",
      "6985/6985 [==============================] - 0s 60us/step - loss: 0.7082 - accuracy: 0.7579 - val_loss: 0.5282 - val_accuracy: 0.8409\n",
      "\n",
      "Epoch 00039: val_loss improved from 0.53468 to 0.52817, saving model to saved_models/weights.best.basic_mlp.hdf5\n",
      "Epoch 40/100\n",
      "6985/6985 [==============================] - 0s 61us/step - loss: 0.7039 - accuracy: 0.7568 - val_loss: 0.4965 - val_accuracy: 0.8552\n",
      "\n",
      "Epoch 00040: val_loss improved from 0.52817 to 0.49648, saving model to saved_models/weights.best.basic_mlp.hdf5\n",
      "Epoch 41/100\n",
      "6985/6985 [==============================] - 0s 61us/step - loss: 0.6657 - accuracy: 0.7748 - val_loss: 0.5055 - val_accuracy: 0.8500\n",
      "\n",
      "Epoch 00041: val_loss did not improve from 0.49648\n",
      "Epoch 42/100\n",
      "6985/6985 [==============================] - 0s 63us/step - loss: 0.6625 - accuracy: 0.7765 - val_loss: 0.4942 - val_accuracy: 0.8477\n",
      "\n",
      "Epoch 00042: val_loss improved from 0.49648 to 0.49417, saving model to saved_models/weights.best.basic_mlp.hdf5\n",
      "Epoch 43/100\n",
      "6985/6985 [==============================] - 0s 65us/step - loss: 0.6883 - accuracy: 0.7649 - val_loss: 0.5018 - val_accuracy: 0.8466\n",
      "\n",
      "Epoch 00043: val_loss did not improve from 0.49417\n",
      "Epoch 44/100\n",
      "6985/6985 [==============================] - 0s 63us/step - loss: 0.6499 - accuracy: 0.7790 - val_loss: 0.4940 - val_accuracy: 0.8506\n",
      "\n",
      "Epoch 00044: val_loss improved from 0.49417 to 0.49405, saving model to saved_models/weights.best.basic_mlp.hdf5\n",
      "Epoch 45/100\n",
      "6985/6985 [==============================] - 0s 63us/step - loss: 0.6493 - accuracy: 0.7717 - val_loss: 0.4960 - val_accuracy: 0.8449\n",
      "\n",
      "Epoch 00045: val_loss did not improve from 0.49405\n",
      "Epoch 46/100\n",
      "6985/6985 [==============================] - 0s 62us/step - loss: 0.6398 - accuracy: 0.7867 - val_loss: 0.5077 - val_accuracy: 0.8432\n",
      "\n",
      "Epoch 00046: val_loss did not improve from 0.49405\n",
      "Epoch 47/100\n",
      "6985/6985 [==============================] - 0s 65us/step - loss: 0.6502 - accuracy: 0.7834 - val_loss: 0.4951 - val_accuracy: 0.8477\n",
      "\n",
      "Epoch 00047: val_loss did not improve from 0.49405\n",
      "Epoch 48/100\n",
      "6985/6985 [==============================] - 0s 61us/step - loss: 0.6298 - accuracy: 0.7885 - val_loss: 0.4569 - val_accuracy: 0.8626\n",
      "\n",
      "Epoch 00048: val_loss improved from 0.49405 to 0.45694, saving model to saved_models/weights.best.basic_mlp.hdf5\n",
      "Epoch 49/100\n",
      "6985/6985 [==============================] - 0s 62us/step - loss: 0.6357 - accuracy: 0.7891 - val_loss: 0.4907 - val_accuracy: 0.8540\n",
      "\n",
      "Epoch 00049: val_loss did not improve from 0.45694\n",
      "Epoch 50/100\n",
      "6985/6985 [==============================] - 0s 60us/step - loss: 0.6076 - accuracy: 0.7924 - val_loss: 0.4863 - val_accuracy: 0.8575\n",
      "\n",
      "Epoch 00050: val_loss did not improve from 0.45694\n",
      "Epoch 51/100\n",
      "6985/6985 [==============================] - 0s 60us/step - loss: 0.6352 - accuracy: 0.7854 - val_loss: 0.4535 - val_accuracy: 0.8695\n",
      "\n",
      "Epoch 00051: val_loss improved from 0.45694 to 0.45349, saving model to saved_models/weights.best.basic_mlp.hdf5\n",
      "Epoch 52/100\n",
      "6985/6985 [==============================] - 0s 60us/step - loss: 0.6290 - accuracy: 0.7917 - val_loss: 0.4806 - val_accuracy: 0.8500\n",
      "\n",
      "Epoch 00052: val_loss did not improve from 0.45349\n",
      "Epoch 53/100\n",
      "6985/6985 [==============================] - 0s 59us/step - loss: 0.6093 - accuracy: 0.7926 - val_loss: 0.4818 - val_accuracy: 0.8443\n",
      "\n",
      "Epoch 00053: val_loss did not improve from 0.45349\n",
      "Epoch 54/100\n",
      "6985/6985 [==============================] - 0s 60us/step - loss: 0.6000 - accuracy: 0.7970 - val_loss: 0.4773 - val_accuracy: 0.8506\n",
      "\n",
      "Epoch 00054: val_loss did not improve from 0.45349\n",
      "Epoch 55/100\n",
      "6985/6985 [==============================] - 0s 60us/step - loss: 0.6372 - accuracy: 0.7953 - val_loss: 0.4529 - val_accuracy: 0.8643\n",
      "\n",
      "Epoch 00055: val_loss improved from 0.45349 to 0.45286, saving model to saved_models/weights.best.basic_mlp.hdf5\n",
      "Epoch 56/100\n",
      "6985/6985 [==============================] - 0s 61us/step - loss: 0.6106 - accuracy: 0.7970 - val_loss: 0.4464 - val_accuracy: 0.8638\n",
      "\n",
      "Epoch 00056: val_loss improved from 0.45286 to 0.44642, saving model to saved_models/weights.best.basic_mlp.hdf5\n",
      "Epoch 57/100\n",
      "6985/6985 [==============================] - 0s 64us/step - loss: 0.5995 - accuracy: 0.8014 - val_loss: 0.4403 - val_accuracy: 0.8706\n",
      "\n",
      "Epoch 00057: val_loss improved from 0.44642 to 0.44028, saving model to saved_models/weights.best.basic_mlp.hdf5\n",
      "Epoch 58/100\n",
      "6985/6985 [==============================] - 0s 62us/step - loss: 0.5849 - accuracy: 0.8039 - val_loss: 0.4686 - val_accuracy: 0.8580\n",
      "\n",
      "Epoch 00058: val_loss did not improve from 0.44028\n",
      "Epoch 59/100\n",
      "6985/6985 [==============================] - 0s 65us/step - loss: 0.5898 - accuracy: 0.8026 - val_loss: 0.4468 - val_accuracy: 0.8666\n",
      "\n",
      "Epoch 00059: val_loss did not improve from 0.44028\n",
      "Epoch 60/100\n",
      "6985/6985 [==============================] - 0s 61us/step - loss: 0.5903 - accuracy: 0.8006 - val_loss: 0.4599 - val_accuracy: 0.8632\n",
      "\n",
      "Epoch 00060: val_loss did not improve from 0.44028\n",
      "Epoch 61/100\n",
      "6985/6985 [==============================] - 0s 61us/step - loss: 0.6053 - accuracy: 0.7971 - val_loss: 0.4552 - val_accuracy: 0.8643\n",
      "\n",
      "Epoch 00061: val_loss did not improve from 0.44028\n",
      "Epoch 62/100\n",
      "6985/6985 [==============================] - 0s 61us/step - loss: 0.5877 - accuracy: 0.7999 - val_loss: 0.4322 - val_accuracy: 0.8706\n",
      "\n",
      "Epoch 00062: val_loss improved from 0.44028 to 0.43216, saving model to saved_models/weights.best.basic_mlp.hdf5\n",
      "Epoch 63/100\n",
      "6985/6985 [==============================] - 0s 62us/step - loss: 0.5749 - accuracy: 0.8105 - val_loss: 0.4435 - val_accuracy: 0.8683\n",
      "\n",
      "Epoch 00063: val_loss did not improve from 0.43216\n",
      "Epoch 64/100\n",
      "6985/6985 [==============================] - 1s 91us/step - loss: 0.5724 - accuracy: 0.8053 - val_loss: 0.4559 - val_accuracy: 0.8678\n",
      "\n",
      "Epoch 00064: val_loss did not improve from 0.43216\n",
      "Epoch 65/100\n",
      "6985/6985 [==============================] - 0s 70us/step - loss: 0.5816 - accuracy: 0.8060 - val_loss: 0.4576 - val_accuracy: 0.8718\n",
      "\n",
      "Epoch 00065: val_loss did not improve from 0.43216\n",
      "Epoch 66/100\n",
      "6985/6985 [==============================] - 0s 66us/step - loss: 0.5749 - accuracy: 0.8103 - val_loss: 0.4330 - val_accuracy: 0.8689\n",
      "\n",
      "Epoch 00066: val_loss did not improve from 0.43216\n",
      "Epoch 67/100\n",
      "6985/6985 [==============================] - 0s 67us/step - loss: 0.5631 - accuracy: 0.8094 - val_loss: 0.4331 - val_accuracy: 0.8689\n",
      "\n",
      "Epoch 00067: val_loss did not improve from 0.43216\n",
      "Epoch 68/100\n",
      "6985/6985 [==============================] - 0s 66us/step - loss: 0.5660 - accuracy: 0.8116 - val_loss: 0.4571 - val_accuracy: 0.8558\n",
      "\n",
      "Epoch 00068: val_loss did not improve from 0.43216\n",
      "Epoch 69/100\n",
      "6985/6985 [==============================] - 0s 65us/step - loss: 0.5580 - accuracy: 0.8112 - val_loss: 0.4363 - val_accuracy: 0.8741\n",
      "\n",
      "Epoch 00069: val_loss did not improve from 0.43216\n",
      "Epoch 70/100\n"
     ]
    },
    {
     "name": "stdout",
     "output_type": "stream",
     "text": [
      "6985/6985 [==============================] - 1s 72us/step - loss: 0.5972 - accuracy: 0.8024 - val_loss: 0.4569 - val_accuracy: 0.8672\n",
      "\n",
      "Epoch 00070: val_loss did not improve from 0.43216\n",
      "Epoch 71/100\n",
      "6985/6985 [==============================] - 0s 64us/step - loss: 0.5389 - accuracy: 0.8199 - val_loss: 0.4217 - val_accuracy: 0.8729\n",
      "\n",
      "Epoch 00071: val_loss improved from 0.43216 to 0.42167, saving model to saved_models/weights.best.basic_mlp.hdf5\n",
      "Epoch 72/100\n",
      "6985/6985 [==============================] - 0s 67us/step - loss: 0.5740 - accuracy: 0.8050 - val_loss: 0.4329 - val_accuracy: 0.8706\n",
      "\n",
      "Epoch 00072: val_loss did not improve from 0.42167\n",
      "Epoch 73/100\n",
      "6985/6985 [==============================] - 0s 64us/step - loss: 0.5546 - accuracy: 0.8105 - val_loss: 0.4228 - val_accuracy: 0.8706\n",
      "\n",
      "Epoch 00073: val_loss did not improve from 0.42167\n",
      "Epoch 74/100\n",
      "6985/6985 [==============================] - 0s 65us/step - loss: 0.5733 - accuracy: 0.8123 - val_loss: 0.4390 - val_accuracy: 0.8695\n",
      "\n",
      "Epoch 00074: val_loss did not improve from 0.42167\n",
      "Epoch 75/100\n",
      "6985/6985 [==============================] - 0s 64us/step - loss: 0.5414 - accuracy: 0.8196 - val_loss: 0.4322 - val_accuracy: 0.8689\n",
      "\n",
      "Epoch 00075: val_loss did not improve from 0.42167\n",
      "Epoch 76/100\n",
      "6985/6985 [==============================] - 0s 62us/step - loss: 0.5507 - accuracy: 0.8190 - val_loss: 0.4237 - val_accuracy: 0.8735\n",
      "\n",
      "Epoch 00076: val_loss did not improve from 0.42167\n",
      "Epoch 77/100\n",
      "6985/6985 [==============================] - 0s 62us/step - loss: 0.5356 - accuracy: 0.8209 - val_loss: 0.4341 - val_accuracy: 0.8712\n",
      "\n",
      "Epoch 00077: val_loss did not improve from 0.42167\n",
      "Epoch 78/100\n",
      "6985/6985 [==============================] - 0s 63us/step - loss: 0.5427 - accuracy: 0.8205 - val_loss: 0.4319 - val_accuracy: 0.8786\n",
      "\n",
      "Epoch 00078: val_loss did not improve from 0.42167\n",
      "Epoch 79/100\n",
      "6985/6985 [==============================] - 0s 63us/step - loss: 0.5381 - accuracy: 0.8208 - val_loss: 0.4414 - val_accuracy: 0.8769\n",
      "\n",
      "Epoch 00079: val_loss did not improve from 0.42167\n",
      "Epoch 80/100\n",
      "6985/6985 [==============================] - 0s 64us/step - loss: 0.5666 - accuracy: 0.8090 - val_loss: 0.4095 - val_accuracy: 0.8786\n",
      "\n",
      "Epoch 00080: val_loss improved from 0.42167 to 0.40952, saving model to saved_models/weights.best.basic_mlp.hdf5\n",
      "Epoch 81/100\n",
      "6985/6985 [==============================] - 0s 63us/step - loss: 0.5540 - accuracy: 0.8168 - val_loss: 0.4228 - val_accuracy: 0.8752\n",
      "\n",
      "Epoch 00081: val_loss did not improve from 0.40952\n",
      "Epoch 82/100\n",
      "6985/6985 [==============================] - 0s 62us/step - loss: 0.5261 - accuracy: 0.8218 - val_loss: 0.4263 - val_accuracy: 0.8798\n",
      "\n",
      "Epoch 00082: val_loss did not improve from 0.40952\n",
      "Epoch 83/100\n",
      "6985/6985 [==============================] - 0s 62us/step - loss: 0.5304 - accuracy: 0.8195 - val_loss: 0.4115 - val_accuracy: 0.8718\n",
      "\n",
      "Epoch 00083: val_loss did not improve from 0.40952\n",
      "Epoch 84/100\n",
      "6985/6985 [==============================] - 0s 64us/step - loss: 0.5213 - accuracy: 0.8259 - val_loss: 0.4167 - val_accuracy: 0.8752\n",
      "\n",
      "Epoch 00084: val_loss did not improve from 0.40952\n",
      "Epoch 85/100\n",
      "6985/6985 [==============================] - 0s 63us/step - loss: 0.5288 - accuracy: 0.8253 - val_loss: 0.4318 - val_accuracy: 0.8701\n",
      "\n",
      "Epoch 00085: val_loss did not improve from 0.40952\n",
      "Epoch 86/100\n",
      "6985/6985 [==============================] - 0s 66us/step - loss: 0.5195 - accuracy: 0.8245 - val_loss: 0.4229 - val_accuracy: 0.8786\n",
      "\n",
      "Epoch 00086: val_loss did not improve from 0.40952\n",
      "Epoch 87/100\n",
      "6985/6985 [==============================] - 1s 75us/step - loss: 0.5476 - accuracy: 0.8153 - val_loss: 0.4254 - val_accuracy: 0.8706\n",
      "\n",
      "Epoch 00087: val_loss did not improve from 0.40952\n",
      "Epoch 88/100\n",
      "6985/6985 [==============================] - 0s 70us/step - loss: 0.5351 - accuracy: 0.8162 - val_loss: 0.4056 - val_accuracy: 0.8752\n",
      "\n",
      "Epoch 00088: val_loss improved from 0.40952 to 0.40564, saving model to saved_models/weights.best.basic_mlp.hdf5\n",
      "Epoch 89/100\n",
      "6985/6985 [==============================] - 1s 81us/step - loss: 0.5260 - accuracy: 0.8252 - val_loss: 0.4048 - val_accuracy: 0.8849\n",
      "\n",
      "Epoch 00089: val_loss improved from 0.40564 to 0.40484, saving model to saved_models/weights.best.basic_mlp.hdf5\n",
      "Epoch 90/100\n",
      "6985/6985 [==============================] - 0s 68us/step - loss: 0.5104 - accuracy: 0.8299 - val_loss: 0.4055 - val_accuracy: 0.8821\n",
      "\n",
      "Epoch 00090: val_loss did not improve from 0.40484\n",
      "Epoch 91/100\n",
      "6985/6985 [==============================] - 0s 66us/step - loss: 0.5405 - accuracy: 0.8205 - val_loss: 0.4180 - val_accuracy: 0.8786\n",
      "\n",
      "Epoch 00091: val_loss did not improve from 0.40484\n",
      "Epoch 92/100\n",
      "6985/6985 [==============================] - 0s 63us/step - loss: 0.5190 - accuracy: 0.8230 - val_loss: 0.4137 - val_accuracy: 0.8890\n",
      "\n",
      "Epoch 00092: val_loss did not improve from 0.40484\n",
      "Epoch 93/100\n",
      "6985/6985 [==============================] - 0s 65us/step - loss: 0.5289 - accuracy: 0.8228 - val_loss: 0.4120 - val_accuracy: 0.8804\n",
      "\n",
      "Epoch 00093: val_loss did not improve from 0.40484\n",
      "Epoch 94/100\n",
      "6985/6985 [==============================] - ETA: 0s - loss: 0.5180 - accuracy: 0.82 - 0s 65us/step - loss: 0.5174 - accuracy: 0.8248 - val_loss: 0.3967 - val_accuracy: 0.8867\n",
      "\n",
      "Epoch 00094: val_loss improved from 0.40484 to 0.39665, saving model to saved_models/weights.best.basic_mlp.hdf5\n",
      "Epoch 95/100\n",
      "6985/6985 [==============================] - 0s 64us/step - loss: 0.5139 - accuracy: 0.8296 - val_loss: 0.4139 - val_accuracy: 0.8838\n",
      "\n",
      "Epoch 00095: val_loss did not improve from 0.39665\n",
      "Epoch 96/100\n",
      "6985/6985 [==============================] - 0s 62us/step - loss: 0.5284 - accuracy: 0.8229 - val_loss: 0.4326 - val_accuracy: 0.8844\n",
      "\n",
      "Epoch 00096: val_loss did not improve from 0.39665\n",
      "Epoch 97/100\n",
      "6985/6985 [==============================] - 0s 62us/step - loss: 0.5173 - accuracy: 0.8275 - val_loss: 0.4205 - val_accuracy: 0.8872\n",
      "\n",
      "Epoch 00097: val_loss did not improve from 0.39665\n",
      "Epoch 98/100\n",
      "6985/6985 [==============================] - 0s 62us/step - loss: 0.5207 - accuracy: 0.8248 - val_loss: 0.4226 - val_accuracy: 0.8849\n",
      "\n",
      "Epoch 00098: val_loss did not improve from 0.39665\n",
      "Epoch 99/100\n",
      "6985/6985 [==============================] - 0s 63us/step - loss: 0.4948 - accuracy: 0.8318 - val_loss: 0.4074 - val_accuracy: 0.8861\n",
      "\n",
      "Epoch 00099: val_loss did not improve from 0.39665\n",
      "Epoch 100/100\n",
      "6985/6985 [==============================] - 0s 60us/step - loss: 0.5065 - accuracy: 0.8301 - val_loss: 0.4243 - val_accuracy: 0.8815\n",
      "\n",
      "Epoch 00100: val_loss did not improve from 0.39665\n",
      "('Training completed in time: ', datetime.timedelta(0, 46, 942357))\n"
     ]
    }
   ],
   "source": [
    "from keras.callbacks import ModelCheckpoint \n",
    "from datetime import datetime \n",
    "\n",
    "num_epochs = 100\n",
    "num_batch_size = 32\n",
    "\n",
    "checkpointer = ModelCheckpoint(filepath='saved_models/weights.best.basic_mlp.hdf5', \n",
    "                               verbose=1, save_best_only=True)\n",
    "start = datetime.now()\n",
    "\n",
    "model.fit(x_train, y_train, batch_size=num_batch_size, epochs=num_epochs, validation_data=(x_test, y_test), callbacks=[checkpointer], verbose=1)\n",
    "\n",
    "\n",
    "duration = datetime.now() - start\n",
    "print(\"Training completed in time: \", duration)"
   ]
  },
  {
   "cell_type": "markdown",
   "metadata": {},
   "source": [
    "### Test the model \n",
    "\n",
    "Here we will review the accuracy of the model on both the training and test data sets. "
   ]
  },
  {
   "cell_type": "code",
   "execution_count": 6,
   "metadata": {},
   "outputs": [
    {
     "name": "stdout",
     "output_type": "stream",
     "text": [
      "('Training Accuracy: ', 0.9325698018074036)\n",
      "('Testing Accuracy: ', 0.8815111517906189)\n"
     ]
    }
   ],
   "source": [
    "# Evaluating the model on the training and testing set\n",
    "score = model.evaluate(x_train, y_train, verbose=0)\n",
    "print(\"Training Accuracy: \", score[1])\n",
    "\n",
    "score = model.evaluate(x_test, y_test, verbose=0)\n",
    "print(\"Testing Accuracy: \", score[1])"
   ]
  },
  {
   "cell_type": "markdown",
   "metadata": {},
   "source": [
    "The initial Training and Testing accuracy scores are quite high. As there is not a great difference between the Training and Test scores (~5%) this suggests that the model has not suffered from overfitting. "
   ]
  },
  {
   "cell_type": "markdown",
   "metadata": {},
   "source": [
    "### Predictions  \n",
    "\n",
    "Here we will build a method which will allow us to test the models predictions on a specified audio .wav file. "
   ]
  },
  {
   "cell_type": "code",
   "execution_count": 7,
   "metadata": {},
   "outputs": [
    {
     "name": "stderr",
     "output_type": "stream",
     "text": [
      "/usr/local/lib/python2.7/site-packages/librosa/__init__.py:35: FutureWarning: You are using librosa with Python 2. Please note that librosa 0.7 will be the last version to support Python 2, after which it will require Python 3 or later.\n",
      "  FutureWarning)\n"
     ]
    }
   ],
   "source": [
    "import librosa \n",
    "import numpy as np \n",
    "\n",
    "def extract_feature(file_name):\n",
    "   \n",
    "    try:\n",
    "        audio_data, sample_rate = librosa.load(file_name, res_type='kaiser_fast') \n",
    "        mfccs = librosa.feature.mfcc(y=audio_data, sr=sample_rate, n_mfcc=40)\n",
    "        mfccsscaled = np.mean(mfccs.T,axis=0)\n",
    "        \n",
    "    except Exception as e:\n",
    "        print(\"Error encountered while parsing file: \", file)\n",
    "        return None, None\n",
    "\n",
    "    return np.array([mfccsscaled])\n"
   ]
  },
  {
   "cell_type": "code",
   "execution_count": 8,
   "metadata": {},
   "outputs": [],
   "source": [
    "def print_prediction(file_name):\n",
    "    prediction_feature = extract_feature(file_name) \n",
    "\n",
    "    predicted_vector = model.predict_classes(prediction_feature)\n",
    "    predicted_class = le.inverse_transform(predicted_vector) \n",
    "    print(\"The predicted class is:\", predicted_class[0], '\\n') \n",
    "\n",
    "    predicted_proba_vector = model.predict_proba(prediction_feature) \n",
    "    predicted_proba = predicted_proba_vector[0]\n",
    "    for i in range(len(predicted_proba)): \n",
    "        category = le.inverse_transform(np.array([i]))\n",
    "        print(category[0], \"\\t\\t : \", format(predicted_proba[i], '.32f') )"
   ]
  },
  {
   "cell_type": "markdown",
   "metadata": {},
   "source": [
    "### Validation \n",
    "\n",
    "#### Test with sample data \n",
    "\n",
    "Initial sainity check to verify the predictions using a subsection of the sample audio files we explored in the first notebook. We expect the bulk of these to be classified correctly. "
   ]
  },
  {
   "cell_type": "code",
   "execution_count": 9,
   "metadata": {},
   "outputs": [
    {
     "name": "stdout",
     "output_type": "stream",
     "text": [
      "('The predicted class is:', 'air_conditioner', '\\n')\n",
      "('air_conditioner', '\\t\\t : ', '0.99987435340881347656250000000000')\n",
      "('car_horn', '\\t\\t : ', '0.00000180377708147716475650668144')\n",
      "('children_playing', '\\t\\t : ', '0.00004441173950908705592155456543')\n",
      "('dog_bark', '\\t\\t : ', '0.00000082766484865715028718113899')\n",
      "('drilling', '\\t\\t : ', '0.00000444962461187969893217086792')\n",
      "('engine_idling', '\\t\\t : ', '0.00000380217124984483234584331512')\n",
      "('gun_shot', '\\t\\t : ', '0.00000718933097232365980744361877')\n",
      "('jackhammer', '\\t\\t : ', '0.00005644194970955140888690948486')\n",
      "('siren', '\\t\\t : ', '0.00000003597979869596201751846820')\n",
      "('street_music', '\\t\\t : ', '0.00000661843705529463477432727814')\n"
     ]
    }
   ],
   "source": [
    "# Class: Air Conditioner\n",
    "\n",
    "filename = '../UrbanSound Dataset sample/audio/100852-0-0-0.wav' \n",
    "print_prediction(filename) "
   ]
  },
  {
   "cell_type": "code",
   "execution_count": 10,
   "metadata": {
    "scrolled": true
   },
   "outputs": [
    {
     "name": "stdout",
     "output_type": "stream",
     "text": [
      "('The predicted class is:', 'drilling', '\\n')\n",
      "('air_conditioner', '\\t\\t : ', '0.00000281466668639041017740964890')\n",
      "('car_horn', '\\t\\t : ', '0.00367502658627927303314208984375')\n",
      "('children_playing', '\\t\\t : ', '0.00088050920749083161354064941406')\n",
      "('dog_bark', '\\t\\t : ', '0.00264153117313981056213378906250')\n",
      "('drilling', '\\t\\t : ', '0.77817684412002563476562500000000')\n",
      "('engine_idling', '\\t\\t : ', '0.00000059014598718931665644049644')\n",
      "('gun_shot', '\\t\\t : ', '0.00024957620189525187015533447266')\n",
      "('jackhammer', '\\t\\t : ', '0.00007464970258297398686408996582')\n",
      "('siren', '\\t\\t : ', '0.00000842899044073419645428657532')\n",
      "('street_music', '\\t\\t : ', '0.21429006755352020263671875000000')\n"
     ]
    }
   ],
   "source": [
    "# Class: Drilling\n",
    "\n",
    "filename = '../UrbanSound Dataset sample/audio/103199-4-0-0.wav'\n",
    "print_prediction(filename) "
   ]
  },
  {
   "cell_type": "code",
   "execution_count": 11,
   "metadata": {},
   "outputs": [
    {
     "name": "stdout",
     "output_type": "stream",
     "text": [
      "('The predicted class is:', 'street_music', '\\n')\n",
      "('air_conditioner', '\\t\\t : ', '0.00199427572079002857208251953125')\n",
      "('car_horn', '\\t\\t : ', '0.00052700744708999991416931152344')\n",
      "('children_playing', '\\t\\t : ', '0.06915031373500823974609375000000')\n",
      "('dog_bark', '\\t\\t : ', '0.00242103193886578083038330078125')\n",
      "('drilling', '\\t\\t : ', '0.00176948937587440013885498046875')\n",
      "('engine_idling', '\\t\\t : ', '0.00083544914377853274345397949219')\n",
      "('gun_shot', '\\t\\t : ', '0.00002691468398552387952804565430')\n",
      "('jackhammer', '\\t\\t : ', '0.01022099796682596206665039062500')\n",
      "('siren', '\\t\\t : ', '0.00001894417800940573215484619141')\n",
      "('street_music', '\\t\\t : ', '0.91303551197052001953125000000000')\n"
     ]
    }
   ],
   "source": [
    "# Class: Street music \n",
    "\n",
    "filename = '../UrbanSound Dataset sample/audio/101848-9-0-0.wav'\n",
    "print_prediction(filename) "
   ]
  },
  {
   "cell_type": "code",
   "execution_count": 12,
   "metadata": {},
   "outputs": [
    {
     "name": "stdout",
     "output_type": "stream",
     "text": [
      "('The predicted class is:', 'street_music', '\\n')\n",
      "('air_conditioner', '\\t\\t : ', '0.00202822987921535968780517578125')\n",
      "('car_horn', '\\t\\t : ', '0.05170848220586776733398437500000')\n",
      "('children_playing', '\\t\\t : ', '0.03772762790322303771972656250000')\n",
      "('dog_bark', '\\t\\t : ', '0.12638345360755920410156250000000')\n",
      "('drilling', '\\t\\t : ', '0.04452101141214370727539062500000')\n",
      "('engine_idling', '\\t\\t : ', '0.00369621324352920055389404296875')\n",
      "('gun_shot', '\\t\\t : ', '0.01064509339630603790283203125000')\n",
      "('jackhammer', '\\t\\t : ', '0.07278062403202056884765625000000')\n",
      "('siren', '\\t\\t : ', '0.00250415946356952190399169921875')\n",
      "('street_music', '\\t\\t : ', '0.64800506830215454101562500000000')\n"
     ]
    }
   ],
   "source": [
    "# Class: Car Horn \n",
    "\n",
    "filename = '../UrbanSound Dataset sample/audio/100648-1-0-0.wav'\n",
    "print_prediction(filename) "
   ]
  },
  {
   "cell_type": "markdown",
   "metadata": {},
   "source": [
    "#### Observations \n",
    "\n",
    "From this brief sanity check the model seems to predict well. One errror was observed whereby a car horn was incorrectly classifed as a dog bark. \n",
    "\n",
    "We can see from the per class confidence that this was quite a low score (43%). This allows follows our early observation that a dog bark and car horn are similar in spectral shape. "
   ]
  },
  {
   "cell_type": "markdown",
   "metadata": {},
   "source": [
    "### Other audio\n",
    "\n",
    "Here we will use a sample of various copyright free sounds that we not part of either our test or training data to further validate our model. "
   ]
  },
  {
   "cell_type": "code",
   "execution_count": 13,
   "metadata": {},
   "outputs": [
    {
     "name": "stdout",
     "output_type": "stream",
     "text": [
      "('The predicted class is:', 'dog_bark', '\\n')\n",
      "('air_conditioner', '\\t\\t : ', '0.00069987989263609051704406738281')\n",
      "('car_horn', '\\t\\t : ', '0.01771452277898788452148437500000')\n",
      "('children_playing', '\\t\\t : ', '0.04449341446161270141601562500000')\n",
      "('dog_bark', '\\t\\t : ', '0.63472759723663330078125000000000')\n",
      "('drilling', '\\t\\t : ', '0.01072952337563037872314453125000')\n",
      "('engine_idling', '\\t\\t : ', '0.00052825349848717451095581054688')\n",
      "('gun_shot', '\\t\\t : ', '0.11306311190128326416015625000000')\n",
      "('jackhammer', '\\t\\t : ', '0.00003311067484901286661624908447')\n",
      "('siren', '\\t\\t : ', '0.00471432926133275032043457031250')\n",
      "('street_music', '\\t\\t : ', '0.17329624295234680175781250000000')\n"
     ]
    }
   ],
   "source": [
    "filename = '../Evaluation audio/dog_bark_1.wav'\n",
    "print_prediction(filename) "
   ]
  },
  {
   "cell_type": "code",
   "execution_count": 14,
   "metadata": {
    "scrolled": true
   },
   "outputs": [
    {
     "name": "stdout",
     "output_type": "stream",
     "text": [
      "('The predicted class is:', 'drilling', '\\n')\n",
      "('air_conditioner', '\\t\\t : ', '0.19057962298393249511718750000000')\n",
      "('car_horn', '\\t\\t : ', '0.00000329012777910975273698568344')\n",
      "('children_playing', '\\t\\t : ', '0.00067159335594624280929565429688')\n",
      "('dog_bark', '\\t\\t : ', '0.00006981044862186536192893981934')\n",
      "('drilling', '\\t\\t : ', '0.72829580307006835937500000000000')\n",
      "('engine_idling', '\\t\\t : ', '0.00002228439188911579549312591553')\n",
      "('gun_shot', '\\t\\t : ', '0.00033834224450401961803436279297')\n",
      "('jackhammer', '\\t\\t : ', '0.08001644164323806762695312500000')\n",
      "('siren', '\\t\\t : ', '0.00000008378015792231963132508099')\n",
      "('street_music', '\\t\\t : ', '0.00000264926734416803810745477676')\n"
     ]
    }
   ],
   "source": [
    "filename = '../Evaluation audio/drilling_1.wav'\n",
    "\n",
    "print_prediction(filename) "
   ]
  },
  {
   "cell_type": "code",
   "execution_count": 15,
   "metadata": {},
   "outputs": [
    {
     "name": "stdout",
     "output_type": "stream",
     "text": [
      "('The predicted class is:', 'street_music', '\\n')\n",
      "('air_conditioner', '\\t\\t : ', '0.00372563092969357967376708984375')\n",
      "('car_horn', '\\t\\t : ', '0.00054582871962338685989379882812')\n",
      "('children_playing', '\\t\\t : ', '0.00005983090159134007990360260010')\n",
      "('dog_bark', '\\t\\t : ', '0.35962244868278503417968750000000')\n",
      "('drilling', '\\t\\t : ', '0.00042311305878683924674987792969')\n",
      "('engine_idling', '\\t\\t : ', '0.00089722994016483426094055175781')\n",
      "('gun_shot', '\\t\\t : ', '0.00489394413307309150695800781250')\n",
      "('jackhammer', '\\t\\t : ', '0.00001109897584683494642376899719')\n",
      "('siren', '\\t\\t : ', '0.00045832575415261089801788330078')\n",
      "('street_music', '\\t\\t : ', '0.62936258316040039062500000000000')\n"
     ]
    }
   ],
   "source": [
    "filename = '../Evaluation audio/gun_shot_1.wav'\n",
    "\n",
    "print_prediction(filename) \n",
    "\n",
    "# sample data weighted towards gun shot - peak in the dog barking sample is simmilar in shape to the gun shot sample"
   ]
  },
  {
   "cell_type": "code",
   "execution_count": 16,
   "metadata": {},
   "outputs": [
    {
     "name": "stdout",
     "output_type": "stream",
     "text": [
      "('The predicted class is:', 'siren', '\\n')\n",
      "('air_conditioner', '\\t\\t : ', '0.00000666058394926949404180049896')\n",
      "('car_horn', '\\t\\t : ', '0.00060503865825012326240539550781')\n",
      "('children_playing', '\\t\\t : ', '0.00893795210868120193481445312500')\n",
      "('dog_bark', '\\t\\t : ', '0.42400994896888732910156250000000')\n",
      "('drilling', '\\t\\t : ', '0.00676910346373915672302246093750')\n",
      "('engine_idling', '\\t\\t : ', '0.00661222776398062705993652343750')\n",
      "('gun_shot', '\\t\\t : ', '0.01959343068301677703857421875000')\n",
      "('jackhammer', '\\t\\t : ', '0.00019135596812702715396881103516')\n",
      "('siren', '\\t\\t : ', '0.53200972080230712890625000000000')\n",
      "('street_music', '\\t\\t : ', '0.00126460788305848836898803710938')\n"
     ]
    }
   ],
   "source": [
    "filename = '../Evaluation audio/siren_1.wav'\n",
    "\n",
    "print_prediction(filename) "
   ]
  },
  {
   "cell_type": "code",
   "execution_count": 17,
   "metadata": {},
   "outputs": [
    {
     "name": "stdout",
     "output_type": "stream",
     "text": [
      "('The predicted class is:', 'gun_shot', '\\n')\n",
      "('air_conditioner', '\\t\\t : ', '0.00000000000000001276360530120758')\n",
      "('car_horn', '\\t\\t : ', '0.00000000000013115150512919143688')\n",
      "('children_playing', '\\t\\t : ', '0.00000024316776148225471843034029')\n",
      "('dog_bark', '\\t\\t : ', '0.00020291317196097224950790405273')\n",
      "('drilling', '\\t\\t : ', '0.00000000000127906149213763420391')\n",
      "('engine_idling', '\\t\\t : ', '0.00000000000015279855017976545772')\n",
      "('gun_shot', '\\t\\t : ', '0.99979680776596069335937500000000')\n",
      "('jackhammer', '\\t\\t : ', '0.00000000000000000000000000366184')\n",
      "('siren', '\\t\\t : ', '0.00000000001489281094280148209918')\n",
      "('street_music', '\\t\\t : ', '0.00000000000000003008123030376870')\n"
     ]
    }
   ],
   "source": [
    "# Smith & Wesson downloaded from the internet\n",
    "\n",
    "filename = '../Evaluation audio/40_smith_wesson_8x.wav'\n",
    "\n",
    "print_prediction(filename) "
   ]
  },
  {
   "cell_type": "code",
   "execution_count": 18,
   "metadata": {},
   "outputs": [
    {
     "name": "stdout",
     "output_type": "stream",
     "text": [
      "('The predicted class is:', 'children_playing', '\\n')\n",
      "('air_conditioner', '\\t\\t : ', '0.02176773920655250549316406250000')\n",
      "('car_horn', '\\t\\t : ', '0.00204630708321928977966308593750')\n",
      "('children_playing', '\\t\\t : ', '0.37266218662261962890625000000000')\n",
      "('dog_bark', '\\t\\t : ', '0.27142825722694396972656250000000')\n",
      "('drilling', '\\t\\t : ', '0.00984426680952310562133789062500')\n",
      "('engine_idling', '\\t\\t : ', '0.04833244904875755310058593750000')\n",
      "('gun_shot', '\\t\\t : ', '0.10294465720653533935546875000000')\n",
      "('jackhammer', '\\t\\t : ', '0.00037200117367319762706756591797')\n",
      "('siren', '\\t\\t : ', '0.06650924682617187500000000000000')\n",
      "('street_music', '\\t\\t : ', '0.10409288108348846435546875000000')\n"
     ]
    }
   ],
   "source": [
    "\n",
    "filename = '../Evaluation audio/Fireworks_And_Crowd.wav'\n",
    "\n",
    "print_prediction(filename) "
   ]
  },
  {
   "cell_type": "markdown",
   "metadata": {},
   "source": [
    "#### Observations \n",
    "\n",
    "The performance of our initial model is satisfactorry and has generalised well, seeming to predict well when tested against new audio data. "
   ]
  },
  {
   "cell_type": "markdown",
   "metadata": {},
   "source": [
    "### *In the next notebook we will refine our model*"
   ]
  },
  {
   "cell_type": "code",
   "execution_count": null,
   "metadata": {},
   "outputs": [],
   "source": []
  },
  {
   "cell_type": "code",
   "execution_count": null,
   "metadata": {},
   "outputs": [],
   "source": []
  }
 ],
 "metadata": {
  "kernelspec": {
   "display_name": "Python 2",
   "language": "python",
   "name": "python2"
  },
  "language_info": {
   "codemirror_mode": {
    "name": "ipython",
    "version": 2
   },
   "file_extension": ".py",
   "mimetype": "text/x-python",
   "name": "python",
   "nbconvert_exporter": "python",
   "pygments_lexer": "ipython2",
   "version": "2.7.16"
  }
 },
 "nbformat": 4,
 "nbformat_minor": 2
}
