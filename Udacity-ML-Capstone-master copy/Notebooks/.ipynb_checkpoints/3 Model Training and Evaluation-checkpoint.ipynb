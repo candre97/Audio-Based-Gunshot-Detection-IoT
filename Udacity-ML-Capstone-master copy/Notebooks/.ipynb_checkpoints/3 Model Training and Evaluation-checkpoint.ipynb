{
 "cells": [
  {
   "cell_type": "markdown",
   "metadata": {},
   "source": [
    "# Classifying Urban sounds using Deep Learning\n",
    "\n",
    "## 3 Model Training and Evaluation "
   ]
  },
  {
   "cell_type": "markdown",
   "metadata": {},
   "source": [
    "### Load Preprocessed data "
   ]
  },
  {
   "cell_type": "code",
   "execution_count": 1,
   "metadata": {},
   "outputs": [],
   "source": [
    "# retrieve the preprocessed data from previous notebook\n",
    "\n",
    "%store -r x_train \n",
    "%store -r x_test \n",
    "%store -r y_train \n",
    "%store -r y_test \n",
    "%store -r yy \n",
    "%store -r le"
   ]
  },
  {
   "cell_type": "markdown",
   "metadata": {},
   "source": [
    "### Initial model architecture - MLP\n",
    "\n",
    "We will start with constructing a Multilayer Perceptron (MLP) Neural Network using Keras and a Tensorflow backend. \n",
    "\n",
    "Starting with a `sequential` model so we can build the model layer by layer. \n",
    "\n",
    "We will begin with a simple model architecture, consisting of three layers, an input layer, a hidden layer and an output layer. All three layers will be of the `dense` layer type which is a standard layer type that is used in many cases for neural networks. \n",
    "\n",
    "The first layer will receive the input shape. As each sample contains 40 MFCCs (or columns) we have a shape of (1x40) this means we will start with an input shape of 40. \n",
    "\n",
    "The first two layers will have 256 nodes. The activation function we will be using for our first 2 layers is the `ReLU`, or `Rectified Linear Activation`. This activation function has been proven to work well in neural networks.\n",
    "\n",
    "We will also apply a `Dropout` value of 50% on our first two layers. This will randomly exclude nodes from each update cycle which in turn results in a network that is capable of better generalisation and is less likely to overfit the training data.\n",
    "\n",
    "Our output layer will have 10 nodes (num_labels) which matches the number of possible classifications. The activation is for our output layer is `softmax`. Softmax makes the output sum up to 1 so the output can be interpreted as probabilities. The model will then make its prediction based on which option has the highest probability."
   ]
  },
  {
   "cell_type": "code",
   "execution_count": 2,
   "metadata": {},
   "outputs": [
    {
     "name": "stderr",
     "output_type": "stream",
     "text": [
      "Using TensorFlow backend.\n"
     ]
    }
   ],
   "source": [
    "import numpy as np\n",
    "from keras.models import Sequential\n",
    "from keras.layers import Dense, Dropout, Activation, Flatten\n",
    "from keras.layers import Convolution2D, MaxPooling2D\n",
    "from keras.optimizers import Adam\n",
    "from keras.utils import np_utils\n",
    "from sklearn import metrics \n",
    "\n",
    "num_labels = yy.shape[1]\n",
    "filter_size = 2\n",
    "\n",
    "# Construct model \n",
    "model = Sequential()\n",
    "\n",
    "model.add(Dense(256, input_shape=(40,)))\n",
    "model.add(Activation('relu'))\n",
    "model.add(Dropout(0.5))\n",
    "\n",
    "model.add(Dense(256))\n",
    "model.add(Activation('relu'))\n",
    "model.add(Dropout(0.5))\n",
    "\n",
    "model.add(Dense(num_labels))\n",
    "model.add(Activation('softmax'))"
   ]
  },
  {
   "cell_type": "markdown",
   "metadata": {},
   "source": [
    "### Compiling the model \n",
    "\n",
    "For compiling our model, we will use the following three parameters: \n",
    "\n",
    "* Loss function - we will use `categorical_crossentropy`. This is the most common choice for classification. A lower score indicates that the model is performing better.\n",
    "\n",
    "* Metrics - we will use the `accuracy` metric which will allow us to view the accuracy score on the validation data when we train the model. \n",
    "\n",
    "* Optimizer - here we will use `adam` which is a generally good optimizer for many use cases.\n"
   ]
  },
  {
   "cell_type": "code",
   "execution_count": 3,
   "metadata": {},
   "outputs": [],
   "source": [
    "# Compile the model\n",
    "model.compile(loss='categorical_crossentropy', metrics=['accuracy'], optimizer='adam') "
   ]
  },
  {
   "cell_type": "code",
   "execution_count": 4,
   "metadata": {},
   "outputs": [
    {
     "name": "stdout",
     "output_type": "stream",
     "text": [
      "Model: \"sequential_1\"\n",
      "_________________________________________________________________\n",
      "Layer (type)                 Output Shape              Param #   \n",
      "=================================================================\n",
      "dense_1 (Dense)              (None, 256)               10496     \n",
      "_________________________________________________________________\n",
      "activation_1 (Activation)    (None, 256)               0         \n",
      "_________________________________________________________________\n",
      "dropout_1 (Dropout)          (None, 256)               0         \n",
      "_________________________________________________________________\n",
      "dense_2 (Dense)              (None, 256)               65792     \n",
      "_________________________________________________________________\n",
      "activation_2 (Activation)    (None, 256)               0         \n",
      "_________________________________________________________________\n",
      "dropout_2 (Dropout)          (None, 256)               0         \n",
      "_________________________________________________________________\n",
      "dense_3 (Dense)              (None, 10)                2570      \n",
      "_________________________________________________________________\n",
      "activation_3 (Activation)    (None, 10)                0         \n",
      "=================================================================\n",
      "Total params: 78,858\n",
      "Trainable params: 78,858\n",
      "Non-trainable params: 0\n",
      "_________________________________________________________________\n",
      "Pre-training accuracy: 13.9668%\n"
     ]
    }
   ],
   "source": [
    "# Display model architecture summary \n",
    "model.summary()\n",
    "\n",
    "# Calculate pre-training accuracy \n",
    "score = model.evaluate(x_test, y_test, verbose=0)\n",
    "accuracy = 100*score[1]\n",
    "\n",
    "print(\"Pre-training accuracy: %.4f%%\" % accuracy)"
   ]
  },
  {
   "cell_type": "markdown",
   "metadata": {},
   "source": [
    "### Training \n",
    "\n",
    "Here we will train the model. \n",
    "\n",
    "We will start with 100 epochs which is the number of times the model will cycle through the data. The model will improve on each cycle until it reaches a certain point. \n",
    "\n",
    "We will also start with a low batch size, as having a large batch size can reduce the generalisation ability of the model. "
   ]
  },
  {
   "cell_type": "code",
   "execution_count": 5,
   "metadata": {},
   "outputs": [
    {
     "name": "stdout",
     "output_type": "stream",
     "text": [
      "Train on 6985 samples, validate on 1747 samples\n",
      "Epoch 1/100\n",
      "6985/6985 [==============================] - 1s 79us/step - loss: 8.3577 - accuracy: 0.1969 - val_loss: 2.0902 - val_accuracy: 0.2702\n",
      "\n",
      "Epoch 00001: val_loss improved from inf to 2.09024, saving model to saved_models/weights.best.basic_mlp.hdf5\n",
      "Epoch 2/100\n",
      "6985/6985 [==============================] - 0s 53us/step - loss: 2.2288 - accuracy: 0.2553 - val_loss: 2.0239 - val_accuracy: 0.3011\n",
      "\n",
      "Epoch 00002: val_loss improved from 2.09024 to 2.02387, saving model to saved_models/weights.best.basic_mlp.hdf5\n",
      "Epoch 3/100\n",
      "6985/6985 [==============================] - 0s 58us/step - loss: 1.9880 - accuracy: 0.3145 - val_loss: 1.8200 - val_accuracy: 0.3463\n",
      "\n",
      "Epoch 00003: val_loss improved from 2.02387 to 1.81995, saving model to saved_models/weights.best.basic_mlp.hdf5\n",
      "Epoch 4/100\n",
      "6985/6985 [==============================] - 0s 56us/step - loss: 1.8296 - accuracy: 0.3635 - val_loss: 1.6414 - val_accuracy: 0.4574\n",
      "\n",
      "Epoch 00004: val_loss improved from 1.81995 to 1.64140, saving model to saved_models/weights.best.basic_mlp.hdf5\n",
      "Epoch 5/100\n",
      "6985/6985 [==============================] - 0s 61us/step - loss: 1.7015 - accuracy: 0.4116 - val_loss: 1.4779 - val_accuracy: 0.5421\n",
      "\n",
      "Epoch 00005: val_loss improved from 1.64140 to 1.47788, saving model to saved_models/weights.best.basic_mlp.hdf5\n",
      "Epoch 6/100\n",
      "6985/6985 [==============================] - 0s 57us/step - loss: 1.5802 - accuracy: 0.4511 - val_loss: 1.3010 - val_accuracy: 0.5965\n",
      "\n",
      "Epoch 00006: val_loss improved from 1.47788 to 1.30102, saving model to saved_models/weights.best.basic_mlp.hdf5\n",
      "Epoch 7/100\n",
      "6985/6985 [==============================] - 1s 80us/step - loss: 1.4748 - accuracy: 0.4902 - val_loss: 1.2189 - val_accuracy: 0.6279\n",
      "\n",
      "Epoch 00007: val_loss improved from 1.30102 to 1.21889, saving model to saved_models/weights.best.basic_mlp.hdf5\n",
      "Epoch 8/100\n",
      "6985/6985 [==============================] - 1s 75us/step - loss: 1.3917 - accuracy: 0.5236 - val_loss: 1.1550 - val_accuracy: 0.6405\n",
      "\n",
      "Epoch 00008: val_loss improved from 1.21889 to 1.15501, saving model to saved_models/weights.best.basic_mlp.hdf5\n",
      "Epoch 9/100\n",
      "6985/6985 [==============================] - 0s 69us/step - loss: 1.3110 - accuracy: 0.5565 - val_loss: 1.0934 - val_accuracy: 0.6566\n",
      "\n",
      "Epoch 00009: val_loss improved from 1.15501 to 1.09344, saving model to saved_models/weights.best.basic_mlp.hdf5\n",
      "Epoch 10/100\n",
      "6985/6985 [==============================] - 0s 66us/step - loss: 1.2729 - accuracy: 0.5655 - val_loss: 1.0294 - val_accuracy: 0.6737\n",
      "\n",
      "Epoch 00010: val_loss improved from 1.09344 to 1.02937, saving model to saved_models/weights.best.basic_mlp.hdf5\n",
      "Epoch 11/100\n",
      "6985/6985 [==============================] - 0s 55us/step - loss: 1.1793 - accuracy: 0.5948 - val_loss: 0.9861 - val_accuracy: 0.6852\n",
      "\n",
      "Epoch 00011: val_loss improved from 1.02937 to 0.98607, saving model to saved_models/weights.best.basic_mlp.hdf5\n",
      "Epoch 12/100\n",
      "6985/6985 [==============================] - 0s 55us/step - loss: 1.1671 - accuracy: 0.6020 - val_loss: 0.9576 - val_accuracy: 0.6932\n",
      "\n",
      "Epoch 00012: val_loss improved from 0.98607 to 0.95762, saving model to saved_models/weights.best.basic_mlp.hdf5\n",
      "Epoch 13/100\n",
      "6985/6985 [==============================] - 0s 60us/step - loss: 1.1268 - accuracy: 0.6189 - val_loss: 0.8943 - val_accuracy: 0.7224\n",
      "\n",
      "Epoch 00013: val_loss improved from 0.95762 to 0.89432, saving model to saved_models/weights.best.basic_mlp.hdf5\n",
      "Epoch 14/100\n",
      "6985/6985 [==============================] - 0s 58us/step - loss: 1.0758 - accuracy: 0.6319 - val_loss: 0.8679 - val_accuracy: 0.7195\n",
      "\n",
      "Epoch 00014: val_loss improved from 0.89432 to 0.86795, saving model to saved_models/weights.best.basic_mlp.hdf5\n",
      "Epoch 15/100\n",
      "6985/6985 [==============================] - 0s 69us/step - loss: 1.0271 - accuracy: 0.6494 - val_loss: 0.8377 - val_accuracy: 0.7424\n",
      "\n",
      "Epoch 00015: val_loss improved from 0.86795 to 0.83773, saving model to saved_models/weights.best.basic_mlp.hdf5\n",
      "Epoch 16/100\n",
      "6985/6985 [==============================] - 1s 75us/step - loss: 1.0074 - accuracy: 0.6568 - val_loss: 0.7902 - val_accuracy: 0.7642\n",
      "\n",
      "Epoch 00016: val_loss improved from 0.83773 to 0.79020, saving model to saved_models/weights.best.basic_mlp.hdf5\n",
      "Epoch 17/100\n",
      "6985/6985 [==============================] - 0s 64us/step - loss: 0.9752 - accuracy: 0.6644 - val_loss: 0.7851 - val_accuracy: 0.7327\n",
      "\n",
      "Epoch 00017: val_loss improved from 0.79020 to 0.78514, saving model to saved_models/weights.best.basic_mlp.hdf5\n",
      "Epoch 18/100\n",
      "6985/6985 [==============================] - 0s 57us/step - loss: 0.9668 - accuracy: 0.6713 - val_loss: 0.7545 - val_accuracy: 0.7647\n",
      "\n",
      "Epoch 00018: val_loss improved from 0.78514 to 0.75449, saving model to saved_models/weights.best.basic_mlp.hdf5\n",
      "Epoch 19/100\n",
      "6985/6985 [==============================] - 0s 63us/step - loss: 0.9218 - accuracy: 0.6838 - val_loss: 0.7263 - val_accuracy: 0.7705\n",
      "\n",
      "Epoch 00019: val_loss improved from 0.75449 to 0.72632, saving model to saved_models/weights.best.basic_mlp.hdf5\n",
      "Epoch 20/100\n",
      "6985/6985 [==============================] - 0s 70us/step - loss: 0.8959 - accuracy: 0.6925 - val_loss: 0.7010 - val_accuracy: 0.7865\n",
      "\n",
      "Epoch 00020: val_loss improved from 0.72632 to 0.70097, saving model to saved_models/weights.best.basic_mlp.hdf5\n",
      "Epoch 21/100\n",
      "6985/6985 [==============================] - 0s 70us/step - loss: 0.8802 - accuracy: 0.6994 - val_loss: 0.7001 - val_accuracy: 0.7779\n",
      "\n",
      "Epoch 00021: val_loss improved from 0.70097 to 0.70013, saving model to saved_models/weights.best.basic_mlp.hdf5\n",
      "Epoch 22/100\n",
      "6985/6985 [==============================] - 1s 76us/step - loss: 0.8633 - accuracy: 0.7064 - val_loss: 0.6669 - val_accuracy: 0.7905\n",
      "\n",
      "Epoch 00022: val_loss improved from 0.70013 to 0.66695, saving model to saved_models/weights.best.basic_mlp.hdf5\n",
      "Epoch 23/100\n",
      "6985/6985 [==============================] - 0s 60us/step - loss: 0.8543 - accuracy: 0.7110 - val_loss: 0.6600 - val_accuracy: 0.8065\n",
      "\n",
      "Epoch 00023: val_loss improved from 0.66695 to 0.65997, saving model to saved_models/weights.best.basic_mlp.hdf5\n",
      "Epoch 24/100\n",
      "6985/6985 [==============================] - 0s 54us/step - loss: 0.8224 - accuracy: 0.7273 - val_loss: 0.6376 - val_accuracy: 0.8203\n",
      "\n",
      "Epoch 00024: val_loss improved from 0.65997 to 0.63758, saving model to saved_models/weights.best.basic_mlp.hdf5\n",
      "Epoch 25/100\n",
      "6985/6985 [==============================] - 0s 58us/step - loss: 0.8157 - accuracy: 0.7250 - val_loss: 0.6588 - val_accuracy: 0.8037\n",
      "\n",
      "Epoch 00025: val_loss did not improve from 0.63758\n",
      "Epoch 26/100\n",
      "6985/6985 [==============================] - 0s 55us/step - loss: 0.7980 - accuracy: 0.7266 - val_loss: 0.6056 - val_accuracy: 0.8082\n",
      "\n",
      "Epoch 00026: val_loss improved from 0.63758 to 0.60557, saving model to saved_models/weights.best.basic_mlp.hdf5\n",
      "Epoch 27/100\n",
      "6985/6985 [==============================] - 0s 58us/step - loss: 0.7812 - accuracy: 0.7364 - val_loss: 0.6442 - val_accuracy: 0.8117\n",
      "\n",
      "Epoch 00027: val_loss did not improve from 0.60557\n",
      "Epoch 28/100\n",
      "6985/6985 [==============================] - 0s 64us/step - loss: 0.7984 - accuracy: 0.7311 - val_loss: 0.6121 - val_accuracy: 0.8111\n",
      "\n",
      "Epoch 00028: val_loss did not improve from 0.60557\n",
      "Epoch 29/100\n",
      "6985/6985 [==============================] - 0s 69us/step - loss: 0.7596 - accuracy: 0.7356 - val_loss: 0.6240 - val_accuracy: 0.8140\n",
      "\n",
      "Epoch 00029: val_loss did not improve from 0.60557\n",
      "Epoch 30/100\n",
      "6985/6985 [==============================] - 0s 69us/step - loss: 0.7497 - accuracy: 0.7489 - val_loss: 0.5772 - val_accuracy: 0.8237\n",
      "\n",
      "Epoch 00030: val_loss improved from 0.60557 to 0.57716, saving model to saved_models/weights.best.basic_mlp.hdf5\n",
      "Epoch 31/100\n",
      "6985/6985 [==============================] - 0s 69us/step - loss: 0.7351 - accuracy: 0.7480 - val_loss: 0.5896 - val_accuracy: 0.8168\n",
      "\n",
      "Epoch 00031: val_loss did not improve from 0.57716\n",
      "Epoch 32/100\n",
      "6985/6985 [==============================] - 1s 76us/step - loss: 0.7452 - accuracy: 0.7449 - val_loss: 0.5745 - val_accuracy: 0.8214\n",
      "\n",
      "Epoch 00032: val_loss improved from 0.57716 to 0.57449, saving model to saved_models/weights.best.basic_mlp.hdf5\n",
      "Epoch 33/100\n",
      "6985/6985 [==============================] - 0s 64us/step - loss: 0.7544 - accuracy: 0.7502 - val_loss: 0.5697 - val_accuracy: 0.8191\n"
     ]
    },
    {
     "name": "stdout",
     "output_type": "stream",
     "text": [
      "\n",
      "Epoch 00033: val_loss improved from 0.57449 to 0.56971, saving model to saved_models/weights.best.basic_mlp.hdf5\n",
      "Epoch 34/100\n",
      "6985/6985 [==============================] - 1s 76us/step - loss: 0.7077 - accuracy: 0.7549 - val_loss: 0.5484 - val_accuracy: 0.8363\n",
      "\n",
      "Epoch 00034: val_loss improved from 0.56971 to 0.54841, saving model to saved_models/weights.best.basic_mlp.hdf5\n",
      "Epoch 35/100\n",
      "6985/6985 [==============================] - 1s 76us/step - loss: 0.7347 - accuracy: 0.7505 - val_loss: 0.5695 - val_accuracy: 0.8300\n",
      "\n",
      "Epoch 00035: val_loss did not improve from 0.54841\n",
      "Epoch 36/100\n",
      "6985/6985 [==============================] - 0s 54us/step - loss: 0.7101 - accuracy: 0.7582 - val_loss: 0.5506 - val_accuracy: 0.8306\n",
      "\n",
      "Epoch 00036: val_loss did not improve from 0.54841\n",
      "Epoch 37/100\n",
      "6985/6985 [==============================] - 0s 54us/step - loss: 0.6974 - accuracy: 0.7618 - val_loss: 0.5449 - val_accuracy: 0.8294\n",
      "\n",
      "Epoch 00037: val_loss improved from 0.54841 to 0.54492, saving model to saved_models/weights.best.basic_mlp.hdf5\n",
      "Epoch 38/100\n",
      "6985/6985 [==============================] - 0s 53us/step - loss: 0.6905 - accuracy: 0.7641 - val_loss: 0.5377 - val_accuracy: 0.8409\n",
      "\n",
      "Epoch 00038: val_loss improved from 0.54492 to 0.53768, saving model to saved_models/weights.best.basic_mlp.hdf5\n",
      "Epoch 39/100\n",
      "6985/6985 [==============================] - 0s 62us/step - loss: 0.6795 - accuracy: 0.7671 - val_loss: 0.5474 - val_accuracy: 0.8243\n",
      "\n",
      "Epoch 00039: val_loss did not improve from 0.53768\n",
      "Epoch 40/100\n",
      "6985/6985 [==============================] - 0s 64us/step - loss: 0.6727 - accuracy: 0.7701 - val_loss: 0.5222 - val_accuracy: 0.8340\n",
      "\n",
      "Epoch 00040: val_loss improved from 0.53768 to 0.52223, saving model to saved_models/weights.best.basic_mlp.hdf5\n",
      "Epoch 41/100\n",
      "6985/6985 [==============================] - 0s 53us/step - loss: 0.6638 - accuracy: 0.7749 - val_loss: 0.5124 - val_accuracy: 0.8329\n",
      "\n",
      "Epoch 00041: val_loss improved from 0.52223 to 0.51243, saving model to saved_models/weights.best.basic_mlp.hdf5\n",
      "Epoch 42/100\n",
      "6985/6985 [==============================] - 0s 54us/step - loss: 0.6486 - accuracy: 0.7782 - val_loss: 0.5176 - val_accuracy: 0.8363\n",
      "\n",
      "Epoch 00042: val_loss did not improve from 0.51243\n",
      "Epoch 43/100\n",
      "6985/6985 [==============================] - 0s 63us/step - loss: 0.6675 - accuracy: 0.7701 - val_loss: 0.5270 - val_accuracy: 0.8300\n",
      "\n",
      "Epoch 00043: val_loss did not improve from 0.51243\n",
      "Epoch 44/100\n",
      "6985/6985 [==============================] - 0s 62us/step - loss: 0.6550 - accuracy: 0.7770 - val_loss: 0.5130 - val_accuracy: 0.8363\n",
      "\n",
      "Epoch 00044: val_loss did not improve from 0.51243\n",
      "Epoch 45/100\n",
      "6985/6985 [==============================] - 0s 60us/step - loss: 0.6276 - accuracy: 0.7850 - val_loss: 0.4999 - val_accuracy: 0.8386\n",
      "\n",
      "Epoch 00045: val_loss improved from 0.51243 to 0.49991, saving model to saved_models/weights.best.basic_mlp.hdf5\n",
      "Epoch 46/100\n",
      "6985/6985 [==============================] - 0s 58us/step - loss: 0.6318 - accuracy: 0.7837 - val_loss: 0.5230 - val_accuracy: 0.8386\n",
      "\n",
      "Epoch 00046: val_loss did not improve from 0.49991\n",
      "Epoch 47/100\n",
      "6985/6985 [==============================] - 0s 60us/step - loss: 0.6314 - accuracy: 0.7798 - val_loss: 0.4801 - val_accuracy: 0.8603\n",
      "\n",
      "Epoch 00047: val_loss improved from 0.49991 to 0.48008, saving model to saved_models/weights.best.basic_mlp.hdf5\n",
      "Epoch 48/100\n",
      "6985/6985 [==============================] - 0s 62us/step - loss: 0.6521 - accuracy: 0.7797 - val_loss: 0.4980 - val_accuracy: 0.8483\n",
      "\n",
      "Epoch 00048: val_loss did not improve from 0.48008\n",
      "Epoch 49/100\n",
      "6985/6985 [==============================] - 0s 53us/step - loss: 0.6266 - accuracy: 0.7875 - val_loss: 0.5090 - val_accuracy: 0.8392\n",
      "\n",
      "Epoch 00049: val_loss did not improve from 0.48008\n",
      "Epoch 50/100\n",
      "6985/6985 [==============================] - 0s 57us/step - loss: 0.6108 - accuracy: 0.7923 - val_loss: 0.5204 - val_accuracy: 0.8523\n",
      "\n",
      "Epoch 00050: val_loss did not improve from 0.48008\n",
      "Epoch 51/100\n",
      "6985/6985 [==============================] - 0s 57us/step - loss: 0.6223 - accuracy: 0.7923 - val_loss: 0.5060 - val_accuracy: 0.8403\n",
      "\n",
      "Epoch 00051: val_loss did not improve from 0.48008\n",
      "Epoch 52/100\n",
      "6985/6985 [==============================] - 0s 54us/step - loss: 0.6118 - accuracy: 0.7900 - val_loss: 0.4959 - val_accuracy: 0.8449\n",
      "\n",
      "Epoch 00052: val_loss did not improve from 0.48008\n",
      "Epoch 53/100\n",
      "6985/6985 [==============================] - 0s 55us/step - loss: 0.5924 - accuracy: 0.7954 - val_loss: 0.4868 - val_accuracy: 0.8426\n",
      "\n",
      "Epoch 00053: val_loss did not improve from 0.48008\n",
      "Epoch 54/100\n",
      "6985/6985 [==============================] - 0s 55us/step - loss: 0.6127 - accuracy: 0.7984 - val_loss: 0.4875 - val_accuracy: 0.8500\n",
      "\n",
      "Epoch 00054: val_loss did not improve from 0.48008\n",
      "Epoch 55/100\n",
      "6985/6985 [==============================] - 0s 60us/step - loss: 0.5963 - accuracy: 0.7954 - val_loss: 0.4973 - val_accuracy: 0.8426\n",
      "\n",
      "Epoch 00055: val_loss did not improve from 0.48008\n",
      "Epoch 56/100\n",
      "6985/6985 [==============================] - 0s 57us/step - loss: 0.6139 - accuracy: 0.7920 - val_loss: 0.4695 - val_accuracy: 0.8575\n",
      "\n",
      "Epoch 00056: val_loss improved from 0.48008 to 0.46953, saving model to saved_models/weights.best.basic_mlp.hdf5\n",
      "Epoch 57/100\n",
      "6985/6985 [==============================] - 0s 55us/step - loss: 0.5949 - accuracy: 0.7989 - val_loss: 0.4823 - val_accuracy: 0.8558\n",
      "\n",
      "Epoch 00057: val_loss did not improve from 0.46953\n",
      "Epoch 58/100\n",
      "6985/6985 [==============================] - 0s 55us/step - loss: 0.5964 - accuracy: 0.7993 - val_loss: 0.4712 - val_accuracy: 0.8609\n",
      "\n",
      "Epoch 00058: val_loss did not improve from 0.46953\n",
      "Epoch 59/100\n",
      "6985/6985 [==============================] - 0s 54us/step - loss: 0.5958 - accuracy: 0.7951 - val_loss: 0.4556 - val_accuracy: 0.8620\n",
      "\n",
      "Epoch 00059: val_loss improved from 0.46953 to 0.45563, saving model to saved_models/weights.best.basic_mlp.hdf5\n",
      "Epoch 60/100\n",
      "6985/6985 [==============================] - 0s 58us/step - loss: 0.5845 - accuracy: 0.7999 - val_loss: 0.4644 - val_accuracy: 0.8638\n",
      "\n",
      "Epoch 00060: val_loss did not improve from 0.45563\n",
      "Epoch 61/100\n",
      "6985/6985 [==============================] - 0s 57us/step - loss: 0.6006 - accuracy: 0.7971 - val_loss: 0.4666 - val_accuracy: 0.8529\n",
      "\n",
      "Epoch 00061: val_loss did not improve from 0.45563\n",
      "Epoch 62/100\n",
      "6985/6985 [==============================] - 0s 67us/step - loss: 0.5904 - accuracy: 0.8016 - val_loss: 0.4719 - val_accuracy: 0.8626\n",
      "\n",
      "Epoch 00062: val_loss did not improve from 0.45563\n",
      "Epoch 63/100\n",
      "6985/6985 [==============================] - 0s 62us/step - loss: 0.5962 - accuracy: 0.7984 - val_loss: 0.4660 - val_accuracy: 0.8540\n",
      "\n",
      "Epoch 00063: val_loss did not improve from 0.45563\n",
      "Epoch 64/100\n",
      "6985/6985 [==============================] - 0s 58us/step - loss: 0.5717 - accuracy: 0.7979 - val_loss: 0.4743 - val_accuracy: 0.8592\n",
      "\n",
      "Epoch 00064: val_loss did not improve from 0.45563\n",
      "Epoch 65/100\n",
      "6985/6985 [==============================] - 0s 54us/step - loss: 0.6024 - accuracy: 0.7967 - val_loss: 0.4777 - val_accuracy: 0.8414\n",
      "\n",
      "Epoch 00065: val_loss did not improve from 0.45563\n",
      "Epoch 66/100\n",
      "6985/6985 [==============================] - 0s 54us/step - loss: 0.5929 - accuracy: 0.8042 - val_loss: 0.4569 - val_accuracy: 0.8649\n",
      "\n",
      "Epoch 00066: val_loss did not improve from 0.45563\n",
      "Epoch 67/100\n",
      "6985/6985 [==============================] - 0s 67us/step - loss: 0.5518 - accuracy: 0.8172 - val_loss: 0.4618 - val_accuracy: 0.8598\n",
      "\n",
      "Epoch 00067: val_loss did not improve from 0.45563\n",
      "Epoch 68/100\n",
      "6985/6985 [==============================] - 0s 65us/step - loss: 0.5602 - accuracy: 0.8083 - val_loss: 0.4549 - val_accuracy: 0.8632\n",
      "\n",
      "Epoch 00068: val_loss improved from 0.45563 to 0.45489, saving model to saved_models/weights.best.basic_mlp.hdf5\n",
      "Epoch 69/100\n",
      "6985/6985 [==============================] - 0s 59us/step - loss: 0.5633 - accuracy: 0.8123 - val_loss: 0.4538 - val_accuracy: 0.8615\n",
      "\n",
      "Epoch 00069: val_loss improved from 0.45489 to 0.45384, saving model to saved_models/weights.best.basic_mlp.hdf5\n",
      "Epoch 70/100\n",
      "6985/6985 [==============================] - 0s 62us/step - loss: 0.5427 - accuracy: 0.8157 - val_loss: 0.4621 - val_accuracy: 0.8603\n",
      "\n",
      "Epoch 00070: val_loss did not improve from 0.45384\n",
      "Epoch 71/100\n"
     ]
    },
    {
     "name": "stdout",
     "output_type": "stream",
     "text": [
      "6985/6985 [==============================] - 0s 54us/step - loss: 0.5481 - accuracy: 0.8132 - val_loss: 0.4737 - val_accuracy: 0.8666\n",
      "\n",
      "Epoch 00071: val_loss did not improve from 0.45384\n",
      "Epoch 72/100\n",
      "6985/6985 [==============================] - 0s 54us/step - loss: 0.5646 - accuracy: 0.8139 - val_loss: 0.4609 - val_accuracy: 0.8603\n",
      "\n",
      "Epoch 00072: val_loss did not improve from 0.45384\n",
      "Epoch 73/100\n",
      "6985/6985 [==============================] - 0s 54us/step - loss: 0.5855 - accuracy: 0.8049 - val_loss: 0.4609 - val_accuracy: 0.8609\n",
      "\n",
      "Epoch 00073: val_loss did not improve from 0.45384\n",
      "Epoch 74/100\n",
      "6985/6985 [==============================] - 0s 55us/step - loss: 0.5484 - accuracy: 0.8130 - val_loss: 0.4436 - val_accuracy: 0.8678\n",
      "\n",
      "Epoch 00074: val_loss improved from 0.45384 to 0.44357, saving model to saved_models/weights.best.basic_mlp.hdf5\n",
      "Epoch 75/100\n",
      "6985/6985 [==============================] - 0s 56us/step - loss: 0.5474 - accuracy: 0.8137 - val_loss: 0.4533 - val_accuracy: 0.8632\n",
      "\n",
      "Epoch 00075: val_loss did not improve from 0.44357\n",
      "Epoch 76/100\n",
      "6985/6985 [==============================] - 1s 75us/step - loss: 0.5389 - accuracy: 0.8150 - val_loss: 0.4378 - val_accuracy: 0.8689\n",
      "\n",
      "Epoch 00076: val_loss improved from 0.44357 to 0.43783, saving model to saved_models/weights.best.basic_mlp.hdf5\n",
      "Epoch 77/100\n",
      "6985/6985 [==============================] - 0s 62us/step - loss: 0.5303 - accuracy: 0.8229 - val_loss: 0.4495 - val_accuracy: 0.8552\n",
      "\n",
      "Epoch 00077: val_loss did not improve from 0.43783\n",
      "Epoch 78/100\n",
      "6985/6985 [==============================] - 0s 54us/step - loss: 0.5540 - accuracy: 0.8084 - val_loss: 0.4369 - val_accuracy: 0.8689\n",
      "\n",
      "Epoch 00078: val_loss improved from 0.43783 to 0.43686, saving model to saved_models/weights.best.basic_mlp.hdf5\n",
      "Epoch 79/100\n",
      "6985/6985 [==============================] - 0s 55us/step - loss: 0.5620 - accuracy: 0.8107 - val_loss: 0.4376 - val_accuracy: 0.8643\n",
      "\n",
      "Epoch 00079: val_loss did not improve from 0.43686\n",
      "Epoch 80/100\n",
      "6985/6985 [==============================] - 0s 54us/step - loss: 0.5356 - accuracy: 0.8205 - val_loss: 0.4494 - val_accuracy: 0.8666\n",
      "\n",
      "Epoch 00080: val_loss did not improve from 0.43686\n",
      "Epoch 81/100\n",
      "6985/6985 [==============================] - 0s 54us/step - loss: 0.5432 - accuracy: 0.8163 - val_loss: 0.4404 - val_accuracy: 0.8718\n",
      "\n",
      "Epoch 00081: val_loss did not improve from 0.43686\n",
      "Epoch 82/100\n",
      "6985/6985 [==============================] - 0s 55us/step - loss: 0.5303 - accuracy: 0.8189 - val_loss: 0.4283 - val_accuracy: 0.8666\n",
      "\n",
      "Epoch 00082: val_loss improved from 0.43686 to 0.42834, saving model to saved_models/weights.best.basic_mlp.hdf5\n",
      "Epoch 83/100\n",
      "6985/6985 [==============================] - 0s 54us/step - loss: 0.5251 - accuracy: 0.8230 - val_loss: 0.4250 - val_accuracy: 0.8786\n",
      "\n",
      "Epoch 00083: val_loss improved from 0.42834 to 0.42505, saving model to saved_models/weights.best.basic_mlp.hdf5\n",
      "Epoch 84/100\n",
      "6985/6985 [==============================] - 0s 55us/step - loss: 0.5277 - accuracy: 0.8203 - val_loss: 0.4256 - val_accuracy: 0.8666\n",
      "\n",
      "Epoch 00084: val_loss did not improve from 0.42505\n",
      "Epoch 85/100\n",
      "6985/6985 [==============================] - 0s 54us/step - loss: 0.5342 - accuracy: 0.8188 - val_loss: 0.4407 - val_accuracy: 0.8695\n",
      "\n",
      "Epoch 00085: val_loss did not improve from 0.42505\n",
      "Epoch 86/100\n",
      "6985/6985 [==============================] - 0s 55us/step - loss: 0.5346 - accuracy: 0.8220 - val_loss: 0.4439 - val_accuracy: 0.8729\n",
      "\n",
      "Epoch 00086: val_loss did not improve from 0.42505\n",
      "Epoch 87/100\n",
      "6985/6985 [==============================] - 0s 55us/step - loss: 0.4936 - accuracy: 0.8304 - val_loss: 0.4309 - val_accuracy: 0.8683\n",
      "\n",
      "Epoch 00087: val_loss did not improve from 0.42505\n",
      "Epoch 88/100\n",
      "6985/6985 [==============================] - 0s 53us/step - loss: 0.5377 - accuracy: 0.8225 - val_loss: 0.4491 - val_accuracy: 0.8701\n",
      "\n",
      "Epoch 00088: val_loss did not improve from 0.42505\n",
      "Epoch 89/100\n",
      "6985/6985 [==============================] - 0s 62us/step - loss: 0.5015 - accuracy: 0.8285 - val_loss: 0.4699 - val_accuracy: 0.8586\n",
      "\n",
      "Epoch 00089: val_loss did not improve from 0.42505\n",
      "Epoch 90/100\n",
      "6985/6985 [==============================] - 0s 57us/step - loss: 0.5223 - accuracy: 0.8216 - val_loss: 0.4271 - val_accuracy: 0.8758\n",
      "\n",
      "Epoch 00090: val_loss did not improve from 0.42505\n",
      "Epoch 91/100\n",
      "6985/6985 [==============================] - 0s 55us/step - loss: 0.5269 - accuracy: 0.8206 - val_loss: 0.4385 - val_accuracy: 0.8735\n",
      "\n",
      "Epoch 00091: val_loss did not improve from 0.42505\n",
      "Epoch 92/100\n",
      "6985/6985 [==============================] - 1s 80us/step - loss: 0.5269 - accuracy: 0.8195 - val_loss: 0.4296 - val_accuracy: 0.8769\n",
      "\n",
      "Epoch 00092: val_loss did not improve from 0.42505\n",
      "Epoch 93/100\n",
      "6985/6985 [==============================] - 0s 67us/step - loss: 0.5087 - accuracy: 0.8304 - val_loss: 0.4330 - val_accuracy: 0.8712\n",
      "\n",
      "Epoch 00093: val_loss did not improve from 0.42505\n",
      "Epoch 94/100\n",
      "6985/6985 [==============================] - 0s 55us/step - loss: 0.5200 - accuracy: 0.8196 - val_loss: 0.4495 - val_accuracy: 0.8683\n",
      "\n",
      "Epoch 00094: val_loss did not improve from 0.42505\n",
      "Epoch 95/100\n",
      "6985/6985 [==============================] - 0s 64us/step - loss: 0.5091 - accuracy: 0.8263 - val_loss: 0.4675 - val_accuracy: 0.8563\n",
      "\n",
      "Epoch 00095: val_loss did not improve from 0.42505\n",
      "Epoch 96/100\n",
      "6985/6985 [==============================] - 0s 55us/step - loss: 0.4956 - accuracy: 0.8321 - val_loss: 0.4371 - val_accuracy: 0.8724\n",
      "\n",
      "Epoch 00096: val_loss did not improve from 0.42505\n",
      "Epoch 97/100\n",
      "6985/6985 [==============================] - 0s 61us/step - loss: 0.5334 - accuracy: 0.8213 - val_loss: 0.4364 - val_accuracy: 0.8695\n",
      "\n",
      "Epoch 00097: val_loss did not improve from 0.42505\n",
      "Epoch 98/100\n",
      "6985/6985 [==============================] - 0s 62us/step - loss: 0.5198 - accuracy: 0.8281 - val_loss: 0.4291 - val_accuracy: 0.8752\n",
      "\n",
      "Epoch 00098: val_loss did not improve from 0.42505\n",
      "Epoch 99/100\n",
      "6985/6985 [==============================] - 0s 55us/step - loss: 0.5219 - accuracy: 0.8266 - val_loss: 0.4456 - val_accuracy: 0.8706\n",
      "\n",
      "Epoch 00099: val_loss did not improve from 0.42505\n",
      "Epoch 100/100\n",
      "6985/6985 [==============================] - 0s 57us/step - loss: 0.5107 - accuracy: 0.8273 - val_loss: 0.4245 - val_accuracy: 0.8666\n",
      "\n",
      "Epoch 00100: val_loss improved from 0.42505 to 0.42450, saving model to saved_models/weights.best.basic_mlp.hdf5\n",
      "('Training completed in time: ', datetime.timedelta(0, 43, 954835))\n"
     ]
    }
   ],
   "source": [
    "from keras.callbacks import ModelCheckpoint \n",
    "from datetime import datetime \n",
    "\n",
    "num_epochs = 100\n",
    "num_batch_size = 32\n",
    "\n",
    "checkpointer = ModelCheckpoint(filepath='saved_models/weights.best.basic_mlp.hdf5', \n",
    "                               verbose=1, save_best_only=True)\n",
    "start = datetime.now()\n",
    "\n",
    "model.fit(x_train, y_train, batch_size=num_batch_size, epochs=num_epochs, validation_data=(x_test, y_test), callbacks=[checkpointer], verbose=1)\n",
    "\n",
    "\n",
    "duration = datetime.now() - start\n",
    "print(\"Training completed in time: \", duration)"
   ]
  },
  {
   "cell_type": "markdown",
   "metadata": {},
   "source": [
    "### Test the model \n",
    "\n",
    "Here we will review the accuracy of the model on both the training and test data sets. "
   ]
  },
  {
   "cell_type": "code",
   "execution_count": 6,
   "metadata": {},
   "outputs": [
    {
     "name": "stdout",
     "output_type": "stream",
     "text": [
      "('Training Accuracy: ', 0.9282748699188232)\n",
      "('Testing Accuracy: ', 0.8666285276412964)\n"
     ]
    }
   ],
   "source": [
    "# Evaluating the model on the training and testing set\n",
    "score = model.evaluate(x_train, y_train, verbose=0)\n",
    "print(\"Training Accuracy: \", score[1])\n",
    "\n",
    "score = model.evaluate(x_test, y_test, verbose=0)\n",
    "print(\"Testing Accuracy: \", score[1])"
   ]
  },
  {
   "cell_type": "markdown",
   "metadata": {},
   "source": [
    "The initial Training and Testing accuracy scores are quite high. As there is not a great difference between the Training and Test scores (~5%) this suggests that the model has not suffered from overfitting. "
   ]
  },
  {
   "cell_type": "markdown",
   "metadata": {},
   "source": [
    "### Predictions  \n",
    "\n",
    "Here we will build a method which will allow us to test the models predictions on a specified audio .wav file. "
   ]
  },
  {
   "cell_type": "code",
   "execution_count": 7,
   "metadata": {},
   "outputs": [
    {
     "name": "stderr",
     "output_type": "stream",
     "text": [
      "/usr/local/lib/python2.7/site-packages/librosa/__init__.py:35: FutureWarning: You are using librosa with Python 2. Please note that librosa 0.7 will be the last version to support Python 2, after which it will require Python 3 or later.\n",
      "  FutureWarning)\n"
     ]
    }
   ],
   "source": [
    "import librosa \n",
    "import numpy as np \n",
    "\n",
    "def extract_feature(file_name):\n",
    "   \n",
    "    try:\n",
    "        audio_data, sample_rate = librosa.load(file_name, res_type='kaiser_fast') \n",
    "        mfccs = librosa.feature.mfcc(y=audio_data, sr=sample_rate, n_mfcc=40)\n",
    "        mfccsscaled = np.mean(mfccs.T,axis=0)\n",
    "        \n",
    "    except Exception as e:\n",
    "        print(\"Error encountered while parsing file: \", file)\n",
    "        return None, None\n",
    "\n",
    "    return np.array([mfccsscaled])\n"
   ]
  },
  {
   "cell_type": "code",
   "execution_count": 8,
   "metadata": {},
   "outputs": [],
   "source": [
    "def print_prediction(file_name):\n",
    "    prediction_feature = extract_feature(file_name) \n",
    "\n",
    "    predicted_vector = model.predict_classes(prediction_feature)\n",
    "    predicted_class = le.inverse_transform(predicted_vector) \n",
    "    print(\"The predicted class is:\", predicted_class[0], '\\n') \n",
    "\n",
    "    predicted_proba_vector = model.predict_proba(prediction_feature) \n",
    "    predicted_proba = predicted_proba_vector[0]\n",
    "    for i in range(len(predicted_proba)): \n",
    "        category = le.inverse_transform(np.array([i]))\n",
    "        print(category[0], \"\\t\\t : \", format(predicted_proba[i], '.32f') )"
   ]
  },
  {
   "cell_type": "markdown",
   "metadata": {},
   "source": [
    "### Validation \n",
    "\n",
    "#### Test with sample data \n",
    "\n",
    "Initial sainity check to verify the predictions using a subsection of the sample audio files we explored in the first notebook. We expect the bulk of these to be classified correctly. "
   ]
  },
  {
   "cell_type": "code",
   "execution_count": 9,
   "metadata": {},
   "outputs": [
    {
     "name": "stdout",
     "output_type": "stream",
     "text": [
      "('The predicted class is:', 'air_conditioner', '\\n')\n",
      "('air_conditioner', '\\t\\t : ', '0.99996685981750488281250000000000')\n",
      "('car_horn', '\\t\\t : ', '0.00000001983163500085538544226438')\n",
      "('children_playing', '\\t\\t : ', '0.00000169111615377914858981966972')\n",
      "('dog_bark', '\\t\\t : ', '0.00000027710242989087419118732214')\n",
      "('drilling', '\\t\\t : ', '0.00001501036877016304060816764832')\n",
      "('engine_idling', '\\t\\t : ', '0.00000001623570433650911581935361')\n",
      "('gun_shot', '\\t\\t : ', '0.00000086189936610026052221655846')\n",
      "('jackhammer', '\\t\\t : ', '0.00001491688362875720486044883728')\n",
      "('siren', '\\t\\t : ', '0.00000000463145743978543578123208')\n",
      "('street_music', '\\t\\t : ', '0.00000038541307390005385968834162')\n"
     ]
    }
   ],
   "source": [
    "# Class: Air Conditioner\n",
    "\n",
    "filename = '../UrbanSound Dataset sample/audio/100852-0-0-0.wav' \n",
    "print_prediction(filename) "
   ]
  },
  {
   "cell_type": "code",
   "execution_count": 10,
   "metadata": {
    "scrolled": true
   },
   "outputs": [
    {
     "name": "stdout",
     "output_type": "stream",
     "text": [
      "The predicted class is: drilling \n",
      "\n",
      "air_conditioner \t\t :  0.00000000003295356001964400149973\n",
      "car_horn \t\t :  0.00000000308959258177310402970761\n",
      "children_playing \t\t :  0.00002208830665040295571088790894\n",
      "dog_bark \t\t :  0.00000067401481373963179066777229\n",
      "drilling \t\t :  0.99972504377365112304687500000000\n",
      "engine_idling \t\t :  0.00000000002312424904338250541969\n",
      "gun_shot \t\t :  0.00000014346949228638550266623497\n",
      "jackhammer \t\t :  0.00000000029780389265710027757450\n",
      "siren \t\t :  0.00000000156893398273183493074612\n",
      "street_music \t\t :  0.00025209947489202022552490234375\n"
     ]
    }
   ],
   "source": [
    "# Class: Drilling\n",
    "\n",
    "filename = '../UrbanSound Dataset sample/audio/103199-4-0-0.wav'\n",
    "print_prediction(filename) "
   ]
  },
  {
   "cell_type": "code",
   "execution_count": 11,
   "metadata": {},
   "outputs": [
    {
     "name": "stdout",
     "output_type": "stream",
     "text": [
      "The predicted class is: street_music \n",
      "\n",
      "air_conditioner \t\t :  0.09999072551727294921875000000000\n",
      "car_horn \t\t :  0.00305506144650280475616455078125\n",
      "children_playing \t\t :  0.09950152784585952758789062500000\n",
      "dog_bark \t\t :  0.02582867257297039031982421875000\n",
      "drilling \t\t :  0.00509325042366981506347656250000\n",
      "engine_idling \t\t :  0.00916280318051576614379882812500\n",
      "gun_shot \t\t :  0.00549275847151875495910644531250\n",
      "jackhammer \t\t :  0.03270008042454719543457031250000\n",
      "siren \t\t :  0.00361734302714467048645019531250\n",
      "street_music \t\t :  0.71555775403976440429687500000000\n"
     ]
    }
   ],
   "source": [
    "# Class: Street music \n",
    "\n",
    "filename = '../UrbanSound Dataset sample/audio/101848-9-0-0.wav'\n",
    "print_prediction(filename) "
   ]
  },
  {
   "cell_type": "code",
   "execution_count": 12,
   "metadata": {},
   "outputs": [
    {
     "name": "stdout",
     "output_type": "stream",
     "text": [
      "The predicted class is: car_horn \n",
      "\n",
      "air_conditioner \t\t :  0.00188611494377255439758300781250\n",
      "car_horn \t\t :  0.68632853031158447265625000000000\n",
      "children_playing \t\t :  0.01224335655570030212402343750000\n",
      "dog_bark \t\t :  0.16461659967899322509765625000000\n",
      "drilling \t\t :  0.05645351111888885498046875000000\n",
      "engine_idling \t\t :  0.00212736334651708602905273437500\n",
      "gun_shot \t\t :  0.00211420282721519470214843750000\n",
      "jackhammer \t\t :  0.00372551172040402889251708984375\n",
      "siren \t\t :  0.00587591761723160743713378906250\n",
      "street_music \t\t :  0.06462877988815307617187500000000\n"
     ]
    }
   ],
   "source": [
    "# Class: Car Horn \n",
    "\n",
    "filename = '../UrbanSound Dataset sample/audio/100648-1-0-0.wav'\n",
    "print_prediction(filename) "
   ]
  },
  {
   "cell_type": "markdown",
   "metadata": {},
   "source": [
    "#### Observations \n",
    "\n",
    "From this brief sanity check the model seems to predict well. One errror was observed whereby a car horn was incorrectly classifed as a dog bark. \n",
    "\n",
    "We can see from the per class confidence that this was quite a low score (43%). This allows follows our early observation that a dog bark and car horn are similar in spectral shape. "
   ]
  },
  {
   "cell_type": "markdown",
   "metadata": {},
   "source": [
    "### Other audio\n",
    "\n",
    "Here we will use a sample of various copyright free sounds that we not part of either our test or training data to further validate our model. "
   ]
  },
  {
   "cell_type": "code",
   "execution_count": 13,
   "metadata": {},
   "outputs": [
    {
     "name": "stdout",
     "output_type": "stream",
     "text": [
      "The predicted class is: dog_bark \n",
      "\n",
      "air_conditioner \t\t :  0.00038618501275777816772460937500\n",
      "car_horn \t\t :  0.00915508810430765151977539062500\n",
      "children_playing \t\t :  0.06478454917669296264648437500000\n",
      "dog_bark \t\t :  0.71007812023162841796875000000000\n",
      "drilling \t\t :  0.02283692173659801483154296875000\n",
      "engine_idling \t\t :  0.00240809586830437183380126953125\n",
      "gun_shot \t\t :  0.10433794558048248291015625000000\n",
      "jackhammer \t\t :  0.00001514166433480568230152130127\n",
      "siren \t\t :  0.01288078445941209793090820312500\n",
      "street_music \t\t :  0.07311715185642242431640625000000\n"
     ]
    }
   ],
   "source": [
    "filename = '../Evaluation audio/dog_bark_1.wav'\n",
    "print_prediction(filename) "
   ]
  },
  {
   "cell_type": "code",
   "execution_count": 14,
   "metadata": {
    "scrolled": true
   },
   "outputs": [
    {
     "name": "stdout",
     "output_type": "stream",
     "text": [
      "The predicted class is: drilling \n",
      "\n",
      "air_conditioner \t\t :  0.32110649347305297851562500000000\n",
      "car_horn \t\t :  0.00000022923920539597020251676440\n",
      "children_playing \t\t :  0.00001040843835653504356741905212\n",
      "dog_bark \t\t :  0.00000026054382828988309483975172\n",
      "drilling \t\t :  0.66649377346038818359375000000000\n",
      "engine_idling \t\t :  0.00000000133662025891823077472509\n",
      "gun_shot \t\t :  0.00000043437574959170888178050518\n",
      "jackhammer \t\t :  0.01238841470330953598022460937500\n",
      "siren \t\t :  0.00000000002891160748308418959596\n",
      "street_music \t\t :  0.00000000528942090127770825347397\n"
     ]
    }
   ],
   "source": [
    "filename = '../Evaluation audio/drilling_1.wav'\n",
    "\n",
    "print_prediction(filename) "
   ]
  },
  {
   "cell_type": "code",
   "execution_count": 15,
   "metadata": {},
   "outputs": [
    {
     "name": "stdout",
     "output_type": "stream",
     "text": [
      "The predicted class is: dog_bark \n",
      "\n",
      "air_conditioner \t\t :  0.02008811198174953460693359375000\n",
      "car_horn \t\t :  0.00047429648111574351787567138672\n",
      "children_playing \t\t :  0.00094942341092973947525024414062\n",
      "dog_bark \t\t :  0.53654015064239501953125000000000\n",
      "drilling \t\t :  0.00093174201902002096176147460938\n",
      "engine_idling \t\t :  0.03123776055872440338134765625000\n",
      "gun_shot \t\t :  0.00091215252177789807319641113281\n",
      "jackhammer \t\t :  0.00002015420614043250679969787598\n",
      "siren \t\t :  0.00055970775429159402847290039062\n",
      "street_music \t\t :  0.40828645229339599609375000000000\n"
     ]
    }
   ],
   "source": [
    "filename = '../Evaluation audio/gun_shot_1.wav'\n",
    "\n",
    "print_prediction(filename) \n",
    "\n",
    "# sample data weighted towards gun shot - peak in the dog barking sample is simmilar in shape to the gun shot sample"
   ]
  },
  {
   "cell_type": "code",
   "execution_count": 16,
   "metadata": {},
   "outputs": [
    {
     "name": "stdout",
     "output_type": "stream",
     "text": [
      "The predicted class is: siren \n",
      "\n",
      "air_conditioner \t\t :  0.00000732402349967742338776588440\n",
      "car_horn \t\t :  0.00057092373026534914970397949219\n",
      "children_playing \t\t :  0.00199068244546651840209960937500\n",
      "dog_bark \t\t :  0.02090488374233245849609375000000\n",
      "drilling \t\t :  0.00046552356798201799392700195312\n",
      "engine_idling \t\t :  0.14164580404758453369140625000000\n",
      "gun_shot \t\t :  0.00050196843221783638000488281250\n",
      "jackhammer \t\t :  0.00276053301058709621429443359375\n",
      "siren \t\t :  0.81527197360992431640625000000000\n",
      "street_music \t\t :  0.01588040776550769805908203125000\n"
     ]
    }
   ],
   "source": [
    "filename = '../Evaluation audio/siren_1.wav'\n",
    "\n",
    "print_prediction(filename) "
   ]
  },
  {
   "cell_type": "markdown",
   "metadata": {},
   "source": [
    "#### Observations \n",
    "\n",
    "The performance of our initial model is satisfactorry and has generalised well, seeming to predict well when tested against new audio data. "
   ]
  },
  {
   "cell_type": "markdown",
   "metadata": {},
   "source": [
    "### *In the next notebook we will refine our model*"
   ]
  }
 ],
 "metadata": {
  "kernelspec": {
   "display_name": "Python 2",
   "language": "python",
   "name": "python2"
  },
  "language_info": {
   "codemirror_mode": {
    "name": "ipython",
    "version": 2
   },
   "file_extension": ".py",
   "mimetype": "text/x-python",
   "name": "python",
   "nbconvert_exporter": "python",
   "pygments_lexer": "ipython2",
   "version": "2.7.16"
  }
 },
 "nbformat": 4,
 "nbformat_minor": 2
}
